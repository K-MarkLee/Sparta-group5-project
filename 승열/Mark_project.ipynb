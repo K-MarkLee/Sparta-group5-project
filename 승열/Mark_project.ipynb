{
 "cells": [
  {
   "cell_type": "code",
   "execution_count": 96,
   "metadata": {},
   "outputs": [],
   "source": [
    "import numpy as np\n",
    "import pandas as pd\n",
    "import seaborn as sns\n",
    "import kaggle\n"
   ]
  },
  {
   "cell_type": "code",
   "execution_count": 97,
   "metadata": {},
   "outputs": [],
   "source": [
    "# sns즉 seaborn을 이용하여 타이타닉의 데이터를 불러온다.\n",
    "titanic = sns.load_dataset('titanic')\n",
    "\n",
    "# 이미 존재하는 타이타닉 csv 파일을 불러 올 수도 있다.\n",
    "df = pd.read_csv('E:/SY work/Sparta/AI python/Library/Dataset/titanic/train.csv')"
   ]
  },
  {
   "cell_type": "code",
   "execution_count": null,
   "metadata": {},
   "outputs": [],
   "source": [
    "# print(titanic)과 titanic은 다른 결과가 나오는데 이는, print는 파이썬의 내장 함수를 이용하는것이므로 그렇다\n",
    "# print(titanic)은 데이터 프레임의 모든 내용을 텍스트 형식으로 출력을 시킨다.\n",
    "# titanic은 데이터 프레임으로 포맷팅을 해서 출력 시킨다.\n",
    "\n",
    "# 그렇기 때문에 다른 함수들을 titanic.head로 불러도 함수가 불러지는것이 아닌 titanic그 자체의 텍스트 데이터를 출력시키니 주의하자.\n",
    "\n",
    "# print(titanic)\n",
    "titanic\n"
   ]
  },
  {
   "cell_type": "code",
   "execution_count": null,
   "metadata": {},
   "outputs": [],
   "source": [
    "# 상위 5개와 하위 5개 또는 ( n ) 을 사용하여 상위, 하위 n 번재까지를 나타 낼 수 있다.\n",
    "# 이때 인덱스에 따라서 1째 값은 1이 아닌 0 이다.\n",
    "\n",
    "# titanic.head()\n",
    "# titanic.tail()\n",
    "titanic.head(10)\n",
    "# titanic.tail(10)"
   ]
  },
  {
   "cell_type": "code",
   "execution_count": null,
   "metadata": {},
   "outputs": [],
   "source": [
    "# titanic의 데이터프레임의 정보를 출력하게한다.\n",
    "# 이는 위의 head 또는 tail의 데이터프레임과는 다르게 생겼는데, \n",
    "# 이유인 즉슨 describe 함수는 데이터에서 수치형 데이터의 기본적인 통계를 요약하였기 때문이다.\n",
    "\n",
    "\n",
    "titanic.describe()"
   ]
  },
  {
   "cell_type": "code",
   "execution_count": 101,
   "metadata": {},
   "outputs": [],
   "source": [
    "# 인덱스가 count, mean, std와 같이 되어 있는데 각각의 내용을 알아보자.\n",
    "\n",
    "\n",
    "# count는 우리가 자주 쓰는 그 count가 맞다. 그 열의 총합을 의미한다. 즉 survived열의 데이터의 초합이 891 이라는 것이다.\n",
    "# 이때, 정수 int가 아닌 float인 이유는 값을 유연하게 처리하기 위함이다.\n",
    "\n",
    "# mean은 각 열의 평균값을 나타낸다. 즉 survived의 평균값이라는 것이다. 이때 왜 count는 891인데 평균값이 0.83인가는\n",
    "# 생존자을 생존 평균 확률을 1로 보고있기 때문이다. 즉 0.38 즉 38 프로의 인원만이 생존을 했다는 것이다.  \n",
    "\n",
    "# std는 표준편차를 설명한다. 이는 생존자열의 값들이 평균인 0.383838에서 0.486592 만큼의 범위에 분산이 되어 있다는 것을 뜻한다. (사실 잘모르겠다)\n",
    "\n",
    "# min과 max는 생존자 열에서 각각 가장 작은 값과 가장 큰 값을 나타내는데, 생존자 열의 데이터는 0(사망) 1(생존) 이기 때문에 의미는 없다.\n",
    "\n",
    "# 25%, 50%, 75% 는 사분위수를 나타낸다. 이는 모든 데이터를 나열했을때, 각각의 %의 위치에 있는 값을 말한다. 데이터의 값이 0과 1이며, 데이터중 1이 약 38프로를 찾이하고 있으니\n",
    "# 결론적으로 사분위수로 나타낸다면 25%, 50% 는 0이 나올것이고 75%는 1이 나오게 될 것이다.\n"
   ]
  },
  {
   "cell_type": "code",
   "execution_count": null,
   "metadata": {},
   "outputs": [],
   "source": [
    "# isnull()을 사용해서 결측값을 찾을 수 있다. 오해를 하는것이 isnull()은 결측값을 찾는것이니, 결측값이면 True 를 반환하게 된다.\n",
    "# 이렇게 데이터 프레임에서 isnull()을 사용하게 되면 쉽게 알기 어렵다. 이때는 sum을 사용해서 갯수를 파악해 볼 수 있다.\n",
    "\n",
    "titanic.isnull()\n",
    "\n",
    "# 두가지 방법으로 표현 할 수 있다.\n",
    "# np.sum(titanic.isnull())\n",
    "titanic.isnull().sum()"
   ]
  },
  {
   "cell_type": "code",
   "execution_count": 103,
   "metadata": {},
   "outputs": [],
   "source": [
    "titanic['age'] = titanic['age'].fillna(titanic['age'].median())\n",
    "titanic['embarked'] = titanic['embarked'].fillna(titanic['embarked'].mode().iloc[0])"
   ]
  },
  {
   "cell_type": "code",
   "execution_count": null,
   "metadata": {},
   "outputs": [],
   "source": [
    "titanic['age'].isnull().sum()"
   ]
  },
  {
   "cell_type": "code",
   "execution_count": null,
   "metadata": {},
   "outputs": [],
   "source": [
    "titanic['embarked'].isnull().sum() "
   ]
  },
  {
   "cell_type": "code",
   "execution_count": null,
   "metadata": {},
   "outputs": [],
   "source": [
    "# 우선 문자열 데이터를 확인.\n",
    "# 그후 데이터를 확인해서 어떻게 변형시킨지 생각해야함함\n",
    "titanic.dtypes"
   ]
  },
  {
   "cell_type": "code",
   "execution_count": null,
   "metadata": {},
   "outputs": [],
   "source": [
    "titanic['alive'].head()"
   ]
  },
  {
   "cell_type": "code",
   "execution_count": null,
   "metadata": {},
   "outputs": [],
   "source": [
    "titanic['sex'].head()"
   ]
  },
  {
   "cell_type": "code",
   "execution_count": null,
   "metadata": {},
   "outputs": [],
   "source": [
    "titanic['embarked'].head()"
   ]
  },
  {
   "cell_type": "code",
   "execution_count": 110,
   "metadata": {},
   "outputs": [],
   "source": [
    "# map을 사용해서 현재 값과 변경할 값을 대입하여 변경시키기.\n",
    "# 남자 0 여자 1 / 생존 0 사망 1\n",
    "# c 0, q 1, s 2로 저장.\n",
    "titanic['sex'] = titanic['sex'].map({'male':0, 'female':1})\n",
    "\n",
    "# titanic['alive'] = 1 - titanic['survived'] ?  이렇게 하면 같은거 아닐가?\n",
    "titanic['alive'] = titanic['alive'].map({'no':1, 'yes':0})\n",
    "titanic['embarked'] = titanic['embarked'].map({'C':0 , 'Q':1, 'S':2})\n"
   ]
  },
  {
   "cell_type": "code",
   "execution_count": null,
   "metadata": {},
   "outputs": [],
   "source": [
    "titanic['sibsp'][titanic['sibsp'] >= 1]"
   ]
  },
  {
   "cell_type": "code",
   "execution_count": null,
   "metadata": {},
   "outputs": [],
   "source": [
    "titanic['parch'][titanic['parch'] >= 1]"
   ]
  },
  {
   "cell_type": "code",
   "execution_count": 113,
   "metadata": {},
   "outputs": [],
   "source": [
    "# family사이즈에 1을 하는 이유는 동승자의 수 이기 때문이다. 본인 미포함이라서\n",
    "titanic['family_size'] = titanic['sibsp'] + titanic['parch']+1"
   ]
  },
  {
   "cell_type": "code",
   "execution_count": null,
   "metadata": {},
   "outputs": [],
   "source": [
    "titanic[['family_size']].head()"
   ]
  },
  {
   "cell_type": "code",
   "execution_count": null,
   "metadata": {},
   "outputs": [],
   "source": [
    "titanic"
   ]
  },
  {
   "cell_type": "code",
   "execution_count": 116,
   "metadata": {},
   "outputs": [],
   "source": [
    "titanic = titanic[['survived', 'pclass', 'sex', 'age', 'sibsp', 'parch', 'fare', 'embarked', 'family_size']]\n",
    "\n",
    "study = titanic.drop(['survived'], axis = 1)\n",
    "answer = titanic['survived']\n",
    "\n",
    "study.to_csv('titanic_study_data.csv', index = False)\n",
    "answer.to_csv('titanic_answer_data.csv', index = False)\n"
   ]
  }
 ],
 "metadata": {
  "kernelspec": {
   "display_name": "machine_learning",
   "language": "python",
   "name": "python3"
  },
  "language_info": {
   "codemirror_mode": {
    "name": "ipython",
    "version": 3
   },
   "file_extension": ".py",
   "mimetype": "text/x-python",
   "name": "python",
   "nbconvert_exporter": "python",
   "pygments_lexer": "ipython3",
   "version": "3.12.7"
  }
 },
 "nbformat": 4,
 "nbformat_minor": 2
}
