{
 "cells": [
  {
   "cell_type": "code",
   "execution_count": 3,
   "id": "261f3c74-ad42-41de-8049-d8c532c00d05",
   "metadata": {},
   "outputs": [],
   "source": [
    "import pandas as pd\n",
    "import numpy as np\n",
    "import seaborn as sns  #과제에 필요한 라이브러리들을 import"
   ]
  },
  {
   "cell_type": "code",
   "execution_count": 4,
   "id": "4a95c3f0-4227-496e-a9fd-7054b2e1a339",
   "metadata": {},
   "outputs": [],
   "source": [
    "titanic = sns.load_dataset('titanic')  #seaborn 라이브러리에서 titanic 데이테셋을 가져옴"
   ]
  },
  {
   "cell_type": "code",
   "execution_count": 13,
   "id": "c1b6f33c-b0b8-42a2-9378-84d538148500",
   "metadata": {
    "scrolled": true
   },
   "outputs": [
    {
     "data": {
      "text/html": [
       "<div>\n",
       "<style scoped>\n",
       "    .dataframe tbody tr th:only-of-type {\n",
       "        vertical-align: middle;\n",
       "    }\n",
       "\n",
       "    .dataframe tbody tr th {\n",
       "        vertical-align: top;\n",
       "    }\n",
       "\n",
       "    .dataframe thead th {\n",
       "        text-align: right;\n",
       "    }\n",
       "</style>\n",
       "<table border=\"1\" class=\"dataframe\">\n",
       "  <thead>\n",
       "    <tr style=\"text-align: right;\">\n",
       "      <th></th>\n",
       "      <th>survived</th>\n",
       "      <th>pclass</th>\n",
       "      <th>sex</th>\n",
       "      <th>age</th>\n",
       "      <th>sibsp</th>\n",
       "      <th>parch</th>\n",
       "      <th>fare</th>\n",
       "      <th>embarked</th>\n",
       "      <th>class</th>\n",
       "      <th>who</th>\n",
       "      <th>adult_male</th>\n",
       "      <th>deck</th>\n",
       "      <th>embark_town</th>\n",
       "      <th>alive</th>\n",
       "      <th>alone</th>\n",
       "    </tr>\n",
       "  </thead>\n",
       "  <tbody>\n",
       "    <tr>\n",
       "      <th>0</th>\n",
       "      <td>0</td>\n",
       "      <td>3</td>\n",
       "      <td>male</td>\n",
       "      <td>22.0</td>\n",
       "      <td>1</td>\n",
       "      <td>0</td>\n",
       "      <td>7.2500</td>\n",
       "      <td>S</td>\n",
       "      <td>Third</td>\n",
       "      <td>man</td>\n",
       "      <td>True</td>\n",
       "      <td>NaN</td>\n",
       "      <td>Southampton</td>\n",
       "      <td>no</td>\n",
       "      <td>False</td>\n",
       "    </tr>\n",
       "    <tr>\n",
       "      <th>1</th>\n",
       "      <td>1</td>\n",
       "      <td>1</td>\n",
       "      <td>female</td>\n",
       "      <td>38.0</td>\n",
       "      <td>1</td>\n",
       "      <td>0</td>\n",
       "      <td>71.2833</td>\n",
       "      <td>C</td>\n",
       "      <td>First</td>\n",
       "      <td>woman</td>\n",
       "      <td>False</td>\n",
       "      <td>C</td>\n",
       "      <td>Cherbourg</td>\n",
       "      <td>yes</td>\n",
       "      <td>False</td>\n",
       "    </tr>\n",
       "    <tr>\n",
       "      <th>2</th>\n",
       "      <td>1</td>\n",
       "      <td>3</td>\n",
       "      <td>female</td>\n",
       "      <td>26.0</td>\n",
       "      <td>0</td>\n",
       "      <td>0</td>\n",
       "      <td>7.9250</td>\n",
       "      <td>S</td>\n",
       "      <td>Third</td>\n",
       "      <td>woman</td>\n",
       "      <td>False</td>\n",
       "      <td>NaN</td>\n",
       "      <td>Southampton</td>\n",
       "      <td>yes</td>\n",
       "      <td>True</td>\n",
       "    </tr>\n",
       "    <tr>\n",
       "      <th>3</th>\n",
       "      <td>1</td>\n",
       "      <td>1</td>\n",
       "      <td>female</td>\n",
       "      <td>35.0</td>\n",
       "      <td>1</td>\n",
       "      <td>0</td>\n",
       "      <td>53.1000</td>\n",
       "      <td>S</td>\n",
       "      <td>First</td>\n",
       "      <td>woman</td>\n",
       "      <td>False</td>\n",
       "      <td>C</td>\n",
       "      <td>Southampton</td>\n",
       "      <td>yes</td>\n",
       "      <td>False</td>\n",
       "    </tr>\n",
       "    <tr>\n",
       "      <th>4</th>\n",
       "      <td>0</td>\n",
       "      <td>3</td>\n",
       "      <td>male</td>\n",
       "      <td>35.0</td>\n",
       "      <td>0</td>\n",
       "      <td>0</td>\n",
       "      <td>8.0500</td>\n",
       "      <td>S</td>\n",
       "      <td>Third</td>\n",
       "      <td>man</td>\n",
       "      <td>True</td>\n",
       "      <td>NaN</td>\n",
       "      <td>Southampton</td>\n",
       "      <td>no</td>\n",
       "      <td>True</td>\n",
       "    </tr>\n",
       "  </tbody>\n",
       "</table>\n",
       "</div>"
      ],
      "text/plain": [
       "   survived  pclass     sex   age  sibsp  parch     fare embarked  class  \\\n",
       "0         0       3    male  22.0      1      0   7.2500        S  Third   \n",
       "1         1       1  female  38.0      1      0  71.2833        C  First   \n",
       "2         1       3  female  26.0      0      0   7.9250        S  Third   \n",
       "3         1       1  female  35.0      1      0  53.1000        S  First   \n",
       "4         0       3    male  35.0      0      0   8.0500        S  Third   \n",
       "\n",
       "     who  adult_male deck  embark_town alive  alone  \n",
       "0    man        True  NaN  Southampton    no  False  \n",
       "1  woman       False    C    Cherbourg   yes  False  \n",
       "2  woman       False  NaN  Southampton   yes   True  \n",
       "3  woman       False    C  Southampton   yes  False  \n",
       "4    man        True  NaN  Southampton    no   True  "
      ]
     },
     "execution_count": 13,
     "metadata": {},
     "output_type": "execute_result"
    }
   ],
   "source": [
    "titanic.head(5)  #head 함수를 이용해 상위 항목을 불러온다 (숫자 안적으면 기본으로 5개)"
   ]
  },
  {
   "cell_type": "code",
   "execution_count": 15,
   "id": "0fe5b26f-54b7-4281-b61e-a8b7f1446e3d",
   "metadata": {},
   "outputs": [
    {
     "data": {
      "text/html": [
       "<div>\n",
       "<style scoped>\n",
       "    .dataframe tbody tr th:only-of-type {\n",
       "        vertical-align: middle;\n",
       "    }\n",
       "\n",
       "    .dataframe tbody tr th {\n",
       "        vertical-align: top;\n",
       "    }\n",
       "\n",
       "    .dataframe thead th {\n",
       "        text-align: right;\n",
       "    }\n",
       "</style>\n",
       "<table border=\"1\" class=\"dataframe\">\n",
       "  <thead>\n",
       "    <tr style=\"text-align: right;\">\n",
       "      <th></th>\n",
       "      <th>survived</th>\n",
       "      <th>pclass</th>\n",
       "      <th>age</th>\n",
       "      <th>sibsp</th>\n",
       "      <th>parch</th>\n",
       "      <th>fare</th>\n",
       "    </tr>\n",
       "  </thead>\n",
       "  <tbody>\n",
       "    <tr>\n",
       "      <th>count</th>\n",
       "      <td>891.000000</td>\n",
       "      <td>891.000000</td>\n",
       "      <td>714.000000</td>\n",
       "      <td>891.000000</td>\n",
       "      <td>891.000000</td>\n",
       "      <td>891.000000</td>\n",
       "    </tr>\n",
       "    <tr>\n",
       "      <th>mean</th>\n",
       "      <td>0.383838</td>\n",
       "      <td>2.308642</td>\n",
       "      <td>29.699118</td>\n",
       "      <td>0.523008</td>\n",
       "      <td>0.381594</td>\n",
       "      <td>32.204208</td>\n",
       "    </tr>\n",
       "    <tr>\n",
       "      <th>std</th>\n",
       "      <td>0.486592</td>\n",
       "      <td>0.836071</td>\n",
       "      <td>14.526497</td>\n",
       "      <td>1.102743</td>\n",
       "      <td>0.806057</td>\n",
       "      <td>49.693429</td>\n",
       "    </tr>\n",
       "    <tr>\n",
       "      <th>min</th>\n",
       "      <td>0.000000</td>\n",
       "      <td>1.000000</td>\n",
       "      <td>0.420000</td>\n",
       "      <td>0.000000</td>\n",
       "      <td>0.000000</td>\n",
       "      <td>0.000000</td>\n",
       "    </tr>\n",
       "    <tr>\n",
       "      <th>25%</th>\n",
       "      <td>0.000000</td>\n",
       "      <td>2.000000</td>\n",
       "      <td>20.125000</td>\n",
       "      <td>0.000000</td>\n",
       "      <td>0.000000</td>\n",
       "      <td>7.910400</td>\n",
       "    </tr>\n",
       "    <tr>\n",
       "      <th>50%</th>\n",
       "      <td>0.000000</td>\n",
       "      <td>3.000000</td>\n",
       "      <td>28.000000</td>\n",
       "      <td>0.000000</td>\n",
       "      <td>0.000000</td>\n",
       "      <td>14.454200</td>\n",
       "    </tr>\n",
       "    <tr>\n",
       "      <th>75%</th>\n",
       "      <td>1.000000</td>\n",
       "      <td>3.000000</td>\n",
       "      <td>38.000000</td>\n",
       "      <td>1.000000</td>\n",
       "      <td>0.000000</td>\n",
       "      <td>31.000000</td>\n",
       "    </tr>\n",
       "    <tr>\n",
       "      <th>max</th>\n",
       "      <td>1.000000</td>\n",
       "      <td>3.000000</td>\n",
       "      <td>80.000000</td>\n",
       "      <td>8.000000</td>\n",
       "      <td>6.000000</td>\n",
       "      <td>512.329200</td>\n",
       "    </tr>\n",
       "  </tbody>\n",
       "</table>\n",
       "</div>"
      ],
      "text/plain": [
       "         survived      pclass         age       sibsp       parch        fare\n",
       "count  891.000000  891.000000  714.000000  891.000000  891.000000  891.000000\n",
       "mean     0.383838    2.308642   29.699118    0.523008    0.381594   32.204208\n",
       "std      0.486592    0.836071   14.526497    1.102743    0.806057   49.693429\n",
       "min      0.000000    1.000000    0.420000    0.000000    0.000000    0.000000\n",
       "25%      0.000000    2.000000   20.125000    0.000000    0.000000    7.910400\n",
       "50%      0.000000    3.000000   28.000000    0.000000    0.000000   14.454200\n",
       "75%      1.000000    3.000000   38.000000    1.000000    0.000000   31.000000\n",
       "max      1.000000    3.000000   80.000000    8.000000    6.000000  512.329200"
      ]
     },
     "execution_count": 15,
     "metadata": {},
     "output_type": "execute_result"
    }
   ],
   "source": [
    "titanic.describe()  #describe 함수로 통계 정보 요약\n",
    "#count : 데이터 개수(결측값 제외)\n",
    "#mean : 평균\n",
    "#ste : 표준편차\n",
    "#min : 최소값\n",
    "#25% : 하위 25%\n",
    "#50% : 하위 50%\n",
    "#75% : 하위 75%\n",
    "#max : 최대값"
   ]
  },
  {
   "cell_type": "code",
   "execution_count": 17,
   "id": "5f78285d-26b3-4c1b-a821-61826b029945",
   "metadata": {},
   "outputs": [
    {
     "data": {
      "text/plain": [
       "survived         0\n",
       "pclass           0\n",
       "sex              0\n",
       "age            177\n",
       "sibsp            0\n",
       "parch            0\n",
       "fare             0\n",
       "embarked         2\n",
       "class            0\n",
       "who              0\n",
       "adult_male       0\n",
       "deck           688\n",
       "embark_town      2\n",
       "alive            0\n",
       "alone            0\n",
       "dtype: int64"
      ]
     },
     "execution_count": 17,
     "metadata": {},
     "output_type": "execute_result"
    }
   ],
   "source": [
    "titanic.isnull().sum()  #isnull은 결측치를 True로 출력, sum은 개수를 합쳐서 출력\n",
    "                        #결측치 제거는 fillna()로 결측치를 다른 값으로 대체하거나, dropna()로 결측치를 제거할 수 있다"
   ]
  },
  {
   "cell_type": "code",
   "execution_count": 19,
   "id": "1d58ce46-dd22-4614-81c9-b69d034706e8",
   "metadata": {},
   "outputs": [
    {
     "name": "stderr",
     "output_type": "stream",
     "text": [
      "/var/folders/j9/nrfqzn3s2q349sv0cw_v64vm0000gn/T/ipykernel_2222/2039253766.py:1: FutureWarning: A value is trying to be set on a copy of a DataFrame or Series through chained assignment using an inplace method.\n",
      "The behavior will change in pandas 3.0. This inplace method will never work because the intermediate object on which we are setting values always behaves as a copy.\n",
      "\n",
      "For example, when doing 'df[col].method(value, inplace=True)', try using 'df.method({col: value}, inplace=True)' or df[col] = df[col].method(value) instead, to perform the operation inplace on the original object.\n",
      "\n",
      "\n",
      "  titanic['age'].fillna(titanic['age'].median(), inplace=True)  #.median() 함수로 'age'의 결측치를 중앙값으로 대체\n"
     ]
    }
   ],
   "source": [
    "titanic['age'].fillna(titanic['age'].median(), inplace=True)  #.median() 함수로 'age'의 결측치를 중앙값으로 대체"
   ]
  },
  {
   "cell_type": "code",
   "execution_count": 21,
   "id": "f2374a8f-8a6a-4ec3-b32c-bfe0e98834dd",
   "metadata": {},
   "outputs": [
    {
     "data": {
      "text/plain": [
       "28.0"
      ]
     },
     "execution_count": 21,
     "metadata": {},
     "output_type": "execute_result"
    }
   ],
   "source": [
    "titanic['age'].median()  #'age'의 중앙값은 28"
   ]
  },
  {
   "cell_type": "code",
   "execution_count": 23,
   "id": "a22604f9-6cf1-4eaf-a6fe-6b3d19e66efe",
   "metadata": {},
   "outputs": [
    {
     "name": "stderr",
     "output_type": "stream",
     "text": [
      "/var/folders/j9/nrfqzn3s2q349sv0cw_v64vm0000gn/T/ipykernel_2222/3304755589.py:1: FutureWarning: A value is trying to be set on a copy of a DataFrame or Series through chained assignment using an inplace method.\n",
      "The behavior will change in pandas 3.0. This inplace method will never work because the intermediate object on which we are setting values always behaves as a copy.\n",
      "\n",
      "For example, when doing 'df[col].method(value, inplace=True)', try using 'df.method({col: value}, inplace=True)' or df[col] = df[col].method(value) instead, to perform the operation inplace on the original object.\n",
      "\n",
      "\n",
      "  titanic['embarked'].fillna(titanic['embarked'].mode()[0], inplace=True)  #.mode()는 최빈값(가장 많은 빈도로 나타나는 값)을 보여준다. 최빈값이 여러개인 경우 모두 보여주게 되는데, 이때 뒤의[0]은 최빈값으 여러개일 경우 몇번째 최빈값을 보여줄지 적어주는 것\n"
     ]
    }
   ],
   "source": [
    "titanic['embarked'].fillna(titanic['embarked'].mode()[0], inplace=True)  #.mode()는 최빈값(가장 많은 빈도로 나타나는 값)을 보여준다. 최빈값이 여러개인 경우 모두 보여주게 되는데, 이때 뒤의[0]은 최빈값으 여러개일 경우 몇번째 최빈값을 보여줄지 적어주는 것"
   ]
  },
  {
   "cell_type": "code",
   "execution_count": 25,
   "id": "b053d3cb-10ca-478e-ac5d-979514aa1b27",
   "metadata": {
    "scrolled": true
   },
   "outputs": [
    {
     "data": {
      "text/plain": [
       "0    S\n",
       "Name: embarked, dtype: object"
      ]
     },
     "execution_count": 25,
     "metadata": {},
     "output_type": "execute_result"
    }
   ],
   "source": [
    "titanic['embarked'].mode()  #최빈값은 S 이고 중복되는 최빈값은 없다"
   ]
  },
  {
   "cell_type": "code",
   "execution_count": 27,
   "id": "62e3e593-a056-4ab4-88ad-b3d2fe57f1ce",
   "metadata": {},
   "outputs": [
    {
     "data": {
      "text/plain": [
       "0"
      ]
     },
     "execution_count": 27,
     "metadata": {},
     "output_type": "execute_result"
    }
   ],
   "source": [
    "titanic['age'].isnull().sum()  #결측치 제거 완료"
   ]
  },
  {
   "cell_type": "code",
   "execution_count": 29,
   "id": "13b3cc82-f682-421a-ac18-350f06ae22c0",
   "metadata": {},
   "outputs": [
    {
     "data": {
      "text/plain": [
       "0"
      ]
     },
     "execution_count": 29,
     "metadata": {},
     "output_type": "execute_result"
    }
   ],
   "source": [
    "titanic['embarked'].isnull().sum()  #결측치 제거 완료"
   ]
  },
  {
   "cell_type": "code",
   "execution_count": 31,
   "id": "2dc1f941-d4bc-4268-a4fe-6e23241439c6",
   "metadata": {},
   "outputs": [],
   "source": [
    "titanic['sex'] = titanic['sex'].map({'male': 0, 'female': 1})  #map함수로 대체할 값 입력\n",
    "titanic['alive'] = titanic['alive'].map({'no': 0 , 'yes': 1})\n",
    "titanic['embarked'] = titanic['embarked'].map({'C': 0, 'Q': 1, 'S': 2})"
   ]
  },
  {
   "cell_type": "code",
   "execution_count": 33,
   "id": "54695efd-6a7e-4eea-a9ae-0cf653d5db3f",
   "metadata": {},
   "outputs": [
    {
     "data": {
      "text/plain": [
       "0    0\n",
       "1    1\n",
       "2    1\n",
       "3    1\n",
       "4    0\n",
       "Name: sex, dtype: int64"
      ]
     },
     "execution_count": 33,
     "metadata": {},
     "output_type": "execute_result"
    }
   ],
   "source": [
    "titanic['sex'].head()"
   ]
  },
  {
   "cell_type": "code",
   "execution_count": 35,
   "id": "18b95e75-623c-46fa-9a5f-ffb61b427267",
   "metadata": {},
   "outputs": [
    {
     "data": {
      "text/plain": [
       "0    0\n",
       "1    1\n",
       "2    1\n",
       "3    1\n",
       "4    0\n",
       "Name: alive, dtype: int64"
      ]
     },
     "execution_count": 35,
     "metadata": {},
     "output_type": "execute_result"
    }
   ],
   "source": [
    "titanic['alive'].head()"
   ]
  },
  {
   "cell_type": "code",
   "execution_count": 37,
   "id": "e965d2d2-6579-42d9-bef0-8ed84cbd7b92",
   "metadata": {},
   "outputs": [
    {
     "data": {
      "text/plain": [
       "0    2\n",
       "1    0\n",
       "2    2\n",
       "3    2\n",
       "4    2\n",
       "Name: embarked, dtype: int64"
      ]
     },
     "execution_count": 37,
     "metadata": {},
     "output_type": "execute_result"
    }
   ],
   "source": [
    "titanic['embarked'].head()"
   ]
  },
  {
   "cell_type": "code",
   "execution_count": 39,
   "id": "520ca2c3-8777-45ec-b1cd-64d70584afbe",
   "metadata": {},
   "outputs": [],
   "source": [
    "titanic['family_size'] = titanic['sibsp'] + titanic['parch'] + 1  #'family_size'라는 새 컬럼을 만들고 그 값을 정의해준다"
   ]
  },
  {
   "cell_type": "code",
   "execution_count": 41,
   "id": "b0c1d49a-3fe8-41e1-ab69-0025e77ee249",
   "metadata": {},
   "outputs": [
    {
     "data": {
      "text/plain": [
       "0    2\n",
       "1    2\n",
       "2    1\n",
       "3    2\n",
       "4    1\n",
       "Name: family_size, dtype: int64"
      ]
     },
     "execution_count": 41,
     "metadata": {},
     "output_type": "execute_result"
    }
   ],
   "source": [
    "titanic['family_size'].head()"
   ]
  },
  {
   "cell_type": "code",
   "execution_count": 45,
   "id": "7cdfa50a",
   "metadata": {},
   "outputs": [],
   "source": [
    "#모델 학습에 필요한 데이터 준비 컬럼 여러개 선택 시 [[]] 괄호를 두 개 써야하니 주의\n",
    "titanic = titanic[['survived', 'pclass', 'sex', 'age', 'sibsp', 'parch', 'fare', 'embarked', 'family_size']]"
   ]
  },
  {
   "cell_type": "code",
   "execution_count": 47,
   "id": "0aaa0206",
   "metadata": {},
   "outputs": [],
   "source": [
    "X = titanic.drop('survived', axis=1)  #drop함수를 사용해 target할 컬럼인 'surviver' 제거. 'axis=1'은 해당 열 제거. (columns = 'survived') 처럼도 사용할 수 있다. 행 삭제시 axis 적지 않고 사용하면 된다\n",
    "y = titanic['survived']  #target 설정\u001f"
   ]
  },
  {
   "cell_type": "code",
   "execution_count": 111,
   "id": "7daddfb6-408f-4f3e-8d6f-34215317f90c",
   "metadata": {},
   "outputs": [],
   "source": [
    "#Logistic Regression 로지스틱회귀는 종속변수(y)가 이진형일 때(결과값이 2가지 중 하나일 때)사용.각 데이터 포인트가 특정 클래스에 속할 확률을 예측\n",
    "\n",
    "#데이터 전처리\n",
    "from sklearn.model_selection import train_test_split  #데이터를 훈련, 테스트로 분할\n",
    "from sklearn.preprocessing import StandardScaler  #스탠다드스케일러\n",
    "#까먹고 이 두 개의 import를 입력 안 해주면 바로 에러 발생\n",
    "\n",
    "#데이터 분할\n",
    "X_train, X_test, y_train, y_test = train_test_split(X, y, test_size=0.2, random_state=42)\n",
    "#전체 데이터의 0.2만큼 테스트에 사용(0.8은 train에 사용), 랜덤 시드 값은 42로 설정(크게 의미없는 숫자. 통일만 시켜주면 된다)\n",
    "\n",
    "#데이터 스케일링\n",
    "scaler = StandardScaler()  #평균이 0이고 분산이 1인 정규 분포로 표준화\n",
    "X_train = scaler.fit_transform(X_train)\n",
    "X_test = scaler.transform(X_test)"
   ]
  },
  {
   "cell_type": "code",
   "execution_count": 113,
   "id": "bcfd7927-f370-44d3-82cf-1274ab86f4ca",
   "metadata": {},
   "outputs": [],
   "source": [
    "#잊지 말자\n",
    "from sklearn.linear_model import LogisticRegression  #로지스틱 회귀모델\n",
    "from sklearn.metrics import accuracy_score, classification_report, confusion_matrix #순서대로 정확도 계산(실제 값과 예측 값 비교), 분류 보고서 생성, 혼동 행렬 생성(예측과 실제를 비교하는 표)\n",
    "\n",
    "#모델 생성 및 학습\n",
    "model = LogisticRegression()\n",
    "model.fit(X_train, y_train)  #모델을 훈련세트로 \u001d",
    "학습\n",
    "\n",
    "#예측\n",
    "y_pred = model.predict(X_test)  #학습은 train으로 예측은 test로"
   ]
  },
  {
   "cell_type": "code",
   "execution_count": 115,
   "id": "88d9322f-0ac6-4e68-94a1-23a0fa5206d1",
   "metadata": {},
   "outputs": [
    {
     "name": "stdout",
     "output_type": "stream",
     "text": [
      "Accuracy: 0.8044692737430168\n"
     ]
    }
   ],
   "source": [
    "#평\b가\n",
    "print(f\"Accuracy: {accuracy_score(y_test, y_pred)}\")  #정확도=(TP+TN)/(TP+TN+FP+FN) 예측한 전체 건수 중 실제와 일치(맞춘) 건수의 비율"
   ]
  },
  {
   "cell_type": "code",
   "execution_count": 117,
   "id": "b749bb44-8851-46c6-ae99-04c0f010ecad",
   "metadata": {},
   "outputs": [
    {
     "name": "stdout",
     "output_type": "stream",
     "text": [
      "Classification Report:\n",
      "              precision    recall  f1-score   support\n",
      "\n",
      "           0       0.82      0.86      0.84       105\n",
      "           1       0.78      0.73      0.76        74\n",
      "\n",
      "    accuracy                           0.80       179\n",
      "   macro avg       0.80      0.79      0.80       179\n",
      "weighted avg       0.80      0.80      0.80       179\n",
      "\n"
     ]
    }
   ],
   "source": [
    "print(f\"Classification Report:\\n{classification_report(y_test, y_pred)}\")  #분류 보고서\n",
    "# precision(정밀도) = TP/(TP+FP) 양성이라고 예측한 것 중 실제와 일치하는 비율\n",
    "#recall(재현율) = TP/(TP+FN) 실제 양성 중 양성이라고 예측한 비율\n",
    "#f1-score 정밀도와 재현율의 가중 조화평균\n",
    "#support 각 라벨의 실제 샘플 개수(여기선 0과 1의 개수)\n",
    "#macro avg 단순 평균\n",
    "#weighted avg 가중치가 포함된 평균(데이터 개수로 가중평균을 내기 때문에 데이터 개수가 많은 라벨이 유리)"
   ]
  },
  {
   "cell_type": "code",
   "execution_count": 119,
   "id": "cab05da0-75ae-4b04-a4db-0dfa7ab38f05",
   "metadata": {},
   "outputs": [
    {
     "name": "stdout",
     "output_type": "stream",
     "text": [
      "Confusion Matrix:\n",
      "[[90 15]\n",
      " [20 54]]\n"
     ]
    }
   ],
   "source": [
    "print(f\"Confusion Matrix:\\n{confusion_matrix(y_test, y_pred)}\")  #혼동 행렬(왼쪽 위 부터 TN, FP, FN, TP)"
   ]
  },
  {
   "cell_type": "code",
   "execution_count": 121,
   "id": "cbdf9380-3288-47ee-8dcd-60a0b5053638",
   "metadata": {},
   "outputs": [],
   "source": [
    "#test_size=0.1 로 한 경우 정확도가 더 올라감"
   ]
  },
  {
   "cell_type": "code",
   "execution_count": null,
   "id": "d9749b59-a907-4f76-b9ea-1ebc40a3bc1a",
   "metadata": {},
   "outputs": [],
   "source": []
  }
 ],
 "metadata": {
  "kernelspec": {
   "display_name": "Python 3 (ipykernel)",
   "language": "python",
   "name": "python3"
  },
  "language_info": {
   "codemirror_mode": {
    "name": "ipython",
    "version": 3
   },
   "file_extension": ".py",
   "mimetype": "text/x-python",
   "name": "python",
   "nbconvert_exporter": "python",
   "pygments_lexer": "ipython3",
   "version": "3.12.4"
  }
 },
 "nbformat": 4,
 "nbformat_minor": 5
}
