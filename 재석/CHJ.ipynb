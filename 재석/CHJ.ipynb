{
 "cells": [
  {
   "cell_type": "code",
   "execution_count": 9,
   "metadata": {},
   "outputs": [
    {
     "name": "stdout",
     "output_type": "stream",
     "text": [
      "Requirement already satisfied: pandas in d:\\kjml\\anaconda\\envs\\myenv\\lib\\site-packages (2.2.2)\n",
      "Requirement already satisfied: numpy>=1.26.0 in d:\\kjml\\anaconda\\envs\\myenv\\lib\\site-packages (from pandas) (1.26.4)\n",
      "Requirement already satisfied: python-dateutil>=2.8.2 in c:\\users\\wotjr\\appdata\\roaming\\python\\python312\\site-packages (from pandas) (2.9.0.post0)\n",
      "Requirement already satisfied: pytz>=2020.1 in d:\\kjml\\anaconda\\envs\\myenv\\lib\\site-packages (from pandas) (2024.1)\n",
      "Requirement already satisfied: tzdata>=2022.7 in d:\\kjml\\anaconda\\envs\\myenv\\lib\\site-packages (from pandas) (2023.3)\n",
      "Requirement already satisfied: six>=1.5 in c:\\users\\wotjr\\appdata\\roaming\\python\\python312\\site-packages (from python-dateutil>=2.8.2->pandas) (1.16.0)\n",
      "Note: you may need to restart the kernel to use updated packages.\n"
     ]
    }
   ],
   "source": [
    "pip install pandas"
   ]
  },
  {
   "cell_type": "code",
   "execution_count": 10,
   "metadata": {},
   "outputs": [
    {
     "name": "stdout",
     "output_type": "stream",
     "text": [
      "Requirement already satisfied: kaggle in d:\\kjml\\anaconda\\envs\\myenv\\lib\\site-packages (1.6.17)Note: you may need to restart the kernel to use updated packages.\n",
      "\n",
      "Requirement already satisfied: six>=1.10 in c:\\users\\wotjr\\appdata\\roaming\\python\\python312\\site-packages (from kaggle) (1.16.0)\n",
      "Requirement already satisfied: certifi>=2023.7.22 in d:\\kjml\\anaconda\\envs\\myenv\\lib\\site-packages (from kaggle) (2024.8.30)\n",
      "Requirement already satisfied: python-dateutil in c:\\users\\wotjr\\appdata\\roaming\\python\\python312\\site-packages (from kaggle) (2.9.0.post0)\n",
      "Requirement already satisfied: requests in d:\\kjml\\anaconda\\envs\\myenv\\lib\\site-packages (from kaggle) (2.32.3)\n",
      "Requirement already satisfied: tqdm in d:\\kjml\\anaconda\\envs\\myenv\\lib\\site-packages (from kaggle) (4.66.5)\n",
      "Requirement already satisfied: python-slugify in d:\\kjml\\anaconda\\envs\\myenv\\lib\\site-packages (from kaggle) (8.0.4)\n",
      "Requirement already satisfied: urllib3 in d:\\kjml\\anaconda\\envs\\myenv\\lib\\site-packages (from kaggle) (2.2.3)\n",
      "Requirement already satisfied: bleach in d:\\kjml\\anaconda\\envs\\myenv\\lib\\site-packages (from kaggle) (4.1.0)\n",
      "Requirement already satisfied: packaging in c:\\users\\wotjr\\appdata\\roaming\\python\\python312\\site-packages (from bleach->kaggle) (24.1)\n",
      "Requirement already satisfied: webencodings in d:\\kjml\\anaconda\\envs\\myenv\\lib\\site-packages (from bleach->kaggle) (0.5.1)\n",
      "Requirement already satisfied: text-unidecode>=1.3 in d:\\kjml\\anaconda\\envs\\myenv\\lib\\site-packages (from python-slugify->kaggle) (1.3)\n",
      "Requirement already satisfied: charset-normalizer<4,>=2 in d:\\kjml\\anaconda\\envs\\myenv\\lib\\site-packages (from requests->kaggle) (3.3.2)\n",
      "Requirement already satisfied: idna<4,>=2.5 in d:\\kjml\\anaconda\\envs\\myenv\\lib\\site-packages (from requests->kaggle) (3.7)\n",
      "Requirement already satisfied: colorama in c:\\users\\wotjr\\appdata\\roaming\\python\\python312\\site-packages (from tqdm->kaggle) (0.4.6)\n"
     ]
    }
   ],
   "source": [
    "pip install kaggle"
   ]
  },
  {
   "cell_type": "code",
   "execution_count": 13,
   "metadata": {},
   "outputs": [],
   "source": [
    "import pandas as pd\n",
    "\n",
    "df = pd.read_csv(\"netflix_reviews.csv\")  # 파일 불러오기"
   ]
  },
  {
   "cell_type": "code",
   "execution_count": 25,
   "metadata": {},
   "outputs": [
    {
     "name": "stdout",
     "output_type": "stream",
     "text": [
      "상단 5개 데이터:\n",
      "                                reviewId               userName  \\\n",
      "0  65ae4898-8007-47e3-92cd-ba06eac04574  Moosa Sam (Moosa Sam)   \n",
      "1  3cc99dd8-81f1-47ce-8b78-18c29719a941           PixEndstar53   \n",
      "2  1c639697-a825-4f11-b966-3e7cfb6eb292             JanCan1 GK   \n",
      "3  240cfd35-f94d-42d6-b145-154097dd2ce0           Brother Bear   \n",
      "4  c568b9f0-7b52-4dad-9b89-f57882014138              Riya Adak   \n",
      "\n",
      "                                             content  score  thumbsUpCount  \\\n",
      "0  This App Not Supporting My Device ROG3 Mobile!...      1              0   \n",
      "1  I'm getting very tired, you guys keep logging ...      2              0   \n",
      "2  One of my go to channels..l was at least 4 mov...      5              0   \n",
      "3                      Poor scripts, Violent content      2              0   \n",
      "4                                               Good      3              0   \n",
      "\n",
      "     reviewCreatedVersion                   at              appVersion  \n",
      "0   8.137.0 build 4 50942  2024-10-23 13:47:33   8.137.0 build 4 50942  \n",
      "1   8.137.0 build 4 50942  2024-10-23 13:27:18   8.137.0 build 4 50942  \n",
      "2  8.132.2 build 18 50846  2024-10-23 13:26:51  8.132.2 build 18 50846  \n",
      "3                     NaN  2024-10-23 13:19:59                     NaN  \n",
      "4   8.137.0 build 4 50942  2024-10-23 13:16:59   8.137.0 build 4 50942  \n",
      "\n",
      "하단 5개 데이터:\n",
      "                                     reviewId       userName  \\\n",
      "117287  a760ead9-e7aa-4ed1-a651-5c37c3600dac  A Google user   \n",
      "117288  4957f9e7-d7f4-4a52-9764-031cebcac83f   Captain Jeoy   \n",
      "117289  9acf7586-7abf-4b50-8c50-3ede3b2a42c4       Suryansh   \n",
      "117290  32870f7f-c461-4256-b602-75244ca60248  A Google user   \n",
      "117291  dc1352e9-10a8-41ca-ab23-05d045b08e90     suraj soni   \n",
      "\n",
      "                                                  content  score  \\\n",
      "117287  i really like it! there are so many movies and...      5   \n",
      "117288   I love Netflix. I always enjoy my time using it.      5   \n",
      "117289               Sound quality is very slow of movies      1   \n",
      "117290  Rate is very expensive.. bcos we see netflix s...      1   \n",
      "117291  this app is awesome for english movies ,series...      4   \n",
      "\n",
      "        thumbsUpCount   reviewCreatedVersion                   at  \\\n",
      "117287              0                    NaN  2019-08-03 15:06:03   \n",
      "117288              0   8.34.0 build 4 50250  2022-08-15 16:16:30   \n",
      "117289              0                    NaN  2020-08-17 07:26:58   \n",
      "117290              0  7.17.0 build 13 34346  2019-07-21 09:41:42   \n",
      "117291              0                    NaN  2020-05-24 11:04:08   \n",
      "\n",
      "                   appVersion  \n",
      "117287                    NaN  \n",
      "117288   8.34.0 build 4 50250  \n",
      "117289                    NaN  \n",
      "117290  7.17.0 build 13 34346  \n",
      "117291                    NaN  \n",
      "\n",
      "컬럼명:\n",
      " Index(['reviewId', 'userName', 'content', 'score', 'thumbsUpCount',\n",
      "       'reviewCreatedVersion', 'at', 'appVersion'],\n",
      "      dtype='object')\n",
      "\n",
      "데이터프레임의 shape (117292, 8)\n"
     ]
    }
   ],
   "source": [
    "# 상단 5개 데이터\n",
    "top_5 = df.head()\n",
    "\n",
    "# 하단 5개 데이터\n",
    "bottom_5 = df.tail()\n",
    "\n",
    "# 컬럼명\n",
    "columns = df.columns\n",
    "\n",
    "# 데이터프레임의 shape\n",
    "shape = df.shape\n",
    "\n",
    "# 출력\n",
    "print(\"상단 5개 데이터:\\n\",top_5)\n",
    "print(\"\\n하단 5개 데이터:\\n\",bottom_5)\n",
    "print(\"\\n컬럼명:\\n\",columns)\n",
    "print(\"\\n데이터프레임의 shape\",shape)"
   ]
  },
  {
   "cell_type": "code",
   "execution_count": 28,
   "metadata": {},
   "outputs": [],
   "source": [
    "# 전처리 함수\n",
    "def preprocess_text(text):\n",
    "    if isinstance(text, float):\n",
    "        return \"\"\n",
    "    text = text.lower()  # 대문자를 소문자로\n",
    "    text = re.sub(r'[^\\w\\s]', '', text)  # 구두점 제거\n",
    "    text = re.sub(r'\\d+', '', text)  # 숫자 제거\n",
    "    text = text.strip()  # 띄어쓰기 제외하고 빈 칸 제거\n",
    "    return text"
   ]
  },
  {
   "cell_type": "code",
   "execution_count": 29,
   "metadata": {},
   "outputs": [
    {
     "name": "stdout",
     "output_type": "stream",
     "text": [
      "                                    reviewId               userName  \\\n",
      "0       65ae4898-8007-47e3-92cd-ba06eac04574  Moosa Sam (Moosa Sam)   \n",
      "1       3cc99dd8-81f1-47ce-8b78-18c29719a941           PixEndstar53   \n",
      "2       1c639697-a825-4f11-b966-3e7cfb6eb292             JanCan1 GK   \n",
      "4       c568b9f0-7b52-4dad-9b89-f57882014138              Riya Adak   \n",
      "7       ca6aa68d-6e96-4e84-b2d3-0f9cb1071d29          Nauman Rajuka   \n",
      "...                                      ...                    ...   \n",
      "117284  9996579a-cf67-40a6-94eb-9ccd63c7d46a          dady mon mari   \n",
      "117285  f2e61d1c-21eb-44d2-924c-35df26ed3bd2       Romnick Arcangel   \n",
      "117286  cbb04dd9-1a1d-46df-80a4-8ae987fe5d85     Ciaran Worthington   \n",
      "117288  4957f9e7-d7f4-4a52-9764-031cebcac83f           Captain Jeoy   \n",
      "117290  32870f7f-c461-4256-b602-75244ca60248          A Google user   \n",
      "\n",
      "                                                  content  score  \\\n",
      "0       This App Not Supporting My Device ROG3 Mobile!...      1   \n",
      "1       I'm getting very tired, you guys keep logging ...      2   \n",
      "2       One of my go to channels..l was at least 4 mov...      5   \n",
      "4                                                    Good      3   \n",
      "7                                         Good experience      5   \n",
      "...                                                   ...    ...   \n",
      "117284  How can I delete one of the users? Please. Hel...      3   \n",
      "117285                            Good app in easy to use      5   \n",
      "117286  Everytime I watch a show it goes so dark so I ...      1   \n",
      "117288   I love Netflix. I always enjoy my time using it.      5   \n",
      "117290  Rate is very expensive.. bcos we see netflix s...      1   \n",
      "\n",
      "        thumbsUpCount    reviewCreatedVersion                   at  \\\n",
      "0                   0   8.137.0 build 4 50942  2024-10-23 13:47:33   \n",
      "1                   0   8.137.0 build 4 50942  2024-10-23 13:27:18   \n",
      "2                   0  8.132.2 build 18 50846  2024-10-23 13:26:51   \n",
      "4                   0   8.137.0 build 4 50942  2024-10-23 13:16:59   \n",
      "7                   0   8.137.0 build 4 50942  2024-10-23 13:03:07   \n",
      "...               ...                     ...                  ...   \n",
      "117284              0   8.104.0 build 5 50619  2024-03-01 04:54:36   \n",
      "117285              0   8.96.1 build 16 50568  2023-12-22 22:08:03   \n",
      "117286              0   7.48.0 build 10 34747  2020-08-22 14:58:10   \n",
      "117288              0    8.34.0 build 4 50250  2022-08-15 16:16:30   \n",
      "117290              0   7.17.0 build 13 34346  2019-07-21 09:41:42   \n",
      "\n",
      "                    appVersion  \n",
      "0        8.137.0 build 4 50942  \n",
      "1        8.137.0 build 4 50942  \n",
      "2       8.132.2 build 18 50846  \n",
      "4        8.137.0 build 4 50942  \n",
      "7        8.137.0 build 4 50942  \n",
      "...                        ...  \n",
      "117284   8.104.0 build 5 50619  \n",
      "117285   8.96.1 build 16 50568  \n",
      "117286   7.48.0 build 10 34747  \n",
      "117288    8.34.0 build 4 50250  \n",
      "117290   7.17.0 build 13 34346  \n",
      "\n",
      "[99706 rows x 8 columns]\n"
     ]
    }
   ],
   "source": [
    "print(df)"
   ]
  }
 ],
 "metadata": {
  "kernelspec": {
   "display_name": "Python (myenv)",
   "language": "python",
   "name": "myenv"
  },
  "language_info": {
   "codemirror_mode": {
    "name": "ipython",
    "version": 3
   },
   "file_extension": ".py",
   "mimetype": "text/x-python",
   "name": "python",
   "nbconvert_exporter": "python",
   "pygments_lexer": "ipython3",
   "version": "3.12.7"
  }
 },
 "nbformat": 4,
 "nbformat_minor": 2
}
