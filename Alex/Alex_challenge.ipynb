{
 "cells": [
  {
   "cell_type": "code",
   "execution_count": 1,
   "id": "120a0b06-9b67-4137-963c-a86b76c36328",
   "metadata": {},
   "outputs": [],
   "source": [
    "#pip install kaggle\n",
    "#kaggle datasets download ashishkumarak/netflix-reviews-playstore-daily-updated  데이터셋 다운로드 후 압출 풀기\n",
    "import pandas as pd\n",
    "import numpy as np"
   ]
  },
  {
   "cell_type": "code",
   "execution_count": 2,
   "id": "b5814b6c-f173-4962-9245-b91acb2e2f1f",
   "metadata": {},
   "outputs": [],
   "source": [
    "df = pd.read_csv('~/kaggle/netflix_reviews.csv')"
   ]
  },
  {
   "cell_type": "code",
   "execution_count": 4,
   "id": "f519598f-4a82-4203-911f-3e4ee44d85d9",
   "metadata": {},
   "outputs": [
    {
     "data": {
      "text/html": [
       "<div>\n",
       "<style scoped>\n",
       "    .dataframe tbody tr th:only-of-type {\n",
       "        vertical-align: middle;\n",
       "    }\n",
       "\n",
       "    .dataframe tbody tr th {\n",
       "        vertical-align: top;\n",
       "    }\n",
       "\n",
       "    .dataframe thead th {\n",
       "        text-align: right;\n",
       "    }\n",
       "</style>\n",
       "<table border=\"1\" class=\"dataframe\">\n",
       "  <thead>\n",
       "    <tr style=\"text-align: right;\">\n",
       "      <th></th>\n",
       "      <th>reviewId</th>\n",
       "      <th>userName</th>\n",
       "      <th>content</th>\n",
       "      <th>score</th>\n",
       "      <th>thumbsUpCount</th>\n",
       "      <th>reviewCreatedVersion</th>\n",
       "      <th>at</th>\n",
       "      <th>appVersion</th>\n",
       "    </tr>\n",
       "  </thead>\n",
       "  <tbody>\n",
       "    <tr>\n",
       "      <th>0</th>\n",
       "      <td>411500b0-ac01-4071-badf-8aa8a45d0f29</td>\n",
       "      <td>Priya S</td>\n",
       "      <td>With basic plan, Netflix can consider to allow...</td>\n",
       "      <td>2</td>\n",
       "      <td>0</td>\n",
       "      <td>8.137.0 build 4 50942</td>\n",
       "      <td>2024-10-22 14:16:52</td>\n",
       "      <td>8.137.0 build 4 50942</td>\n",
       "    </tr>\n",
       "    <tr>\n",
       "      <th>1</th>\n",
       "      <td>5ef1c68e-9d84-4afb-8c58-829a554dc89b</td>\n",
       "      <td>angel dolla</td>\n",
       "      <td>Good app for series.</td>\n",
       "      <td>5</td>\n",
       "      <td>0</td>\n",
       "      <td>8.137.0 build 4 50942</td>\n",
       "      <td>2024-10-22 14:04:30</td>\n",
       "      <td>8.137.0 build 4 50942</td>\n",
       "    </tr>\n",
       "    <tr>\n",
       "      <th>2</th>\n",
       "      <td>1fe7e31a-43d9-406e-94cd-549d019ec70f</td>\n",
       "      <td>CHRISTIAN SUMATRA</td>\n",
       "      <td>Laging wala mga movies na magaganda potangina ...</td>\n",
       "      <td>1</td>\n",
       "      <td>0</td>\n",
       "      <td>8.136.0 build 3 50908</td>\n",
       "      <td>2024-10-22 14:02:38</td>\n",
       "      <td>8.136.0 build 3 50908</td>\n",
       "    </tr>\n",
       "    <tr>\n",
       "      <th>3</th>\n",
       "      <td>c5cb0034-5395-417e-ad31-84c6ac79340b</td>\n",
       "      <td>Raghu Pathy</td>\n",
       "      <td>This app uses more data and it's asking withou...</td>\n",
       "      <td>1</td>\n",
       "      <td>0</td>\n",
       "      <td>8.136.0 build 3 50908</td>\n",
       "      <td>2024-10-22 13:57:12</td>\n",
       "      <td>8.136.0 build 3 50908</td>\n",
       "    </tr>\n",
       "    <tr>\n",
       "      <th>4</th>\n",
       "      <td>43257f77-7b9e-40b8-ac56-c87ff3130619</td>\n",
       "      <td>Rebecka Todd</td>\n",
       "      <td>Since the latest update i am not able to load ...</td>\n",
       "      <td>1</td>\n",
       "      <td>0</td>\n",
       "      <td>8.136.0 build 3 50908</td>\n",
       "      <td>2024-10-22 13:48:29</td>\n",
       "      <td>8.136.0 build 3 50908</td>\n",
       "    </tr>\n",
       "  </tbody>\n",
       "</table>\n",
       "</div>"
      ],
      "text/plain": [
       "                               reviewId           userName  \\\n",
       "0  411500b0-ac01-4071-badf-8aa8a45d0f29            Priya S   \n",
       "1  5ef1c68e-9d84-4afb-8c58-829a554dc89b        angel dolla   \n",
       "2  1fe7e31a-43d9-406e-94cd-549d019ec70f  CHRISTIAN SUMATRA   \n",
       "3  c5cb0034-5395-417e-ad31-84c6ac79340b        Raghu Pathy   \n",
       "4  43257f77-7b9e-40b8-ac56-c87ff3130619       Rebecka Todd   \n",
       "\n",
       "                                             content  score  thumbsUpCount  \\\n",
       "0  With basic plan, Netflix can consider to allow...      2              0   \n",
       "1                               Good app for series.      5              0   \n",
       "2  Laging wala mga movies na magaganda potangina ...      1              0   \n",
       "3  This app uses more data and it's asking withou...      1              0   \n",
       "4  Since the latest update i am not able to load ...      1              0   \n",
       "\n",
       "    reviewCreatedVersion                   at             appVersion  \n",
       "0  8.137.0 build 4 50942  2024-10-22 14:16:52  8.137.0 build 4 50942  \n",
       "1  8.137.0 build 4 50942  2024-10-22 14:04:30  8.137.0 build 4 50942  \n",
       "2  8.136.0 build 3 50908  2024-10-22 14:02:38  8.136.0 build 3 50908  \n",
       "3  8.136.0 build 3 50908  2024-10-22 13:57:12  8.136.0 build 3 50908  \n",
       "4  8.136.0 build 3 50908  2024-10-22 13:48:29  8.136.0 build 3 50908  "
      ]
     },
     "execution_count": 4,
     "metadata": {},
     "output_type": "execute_result"
    }
   ],
   "source": [
    "df.head()"
   ]
  },
  {
   "cell_type": "code",
   "execution_count": 7,
   "id": "c44f98f1-681e-4ac4-8817-c94898f05c0b",
   "metadata": {},
   "outputs": [
    {
     "data": {
      "text/html": [
       "<div>\n",
       "<style scoped>\n",
       "    .dataframe tbody tr th:only-of-type {\n",
       "        vertical-align: middle;\n",
       "    }\n",
       "\n",
       "    .dataframe tbody tr th {\n",
       "        vertical-align: top;\n",
       "    }\n",
       "\n",
       "    .dataframe thead th {\n",
       "        text-align: right;\n",
       "    }\n",
       "</style>\n",
       "<table border=\"1\" class=\"dataframe\">\n",
       "  <thead>\n",
       "    <tr style=\"text-align: right;\">\n",
       "      <th></th>\n",
       "      <th>reviewId</th>\n",
       "      <th>userName</th>\n",
       "      <th>content</th>\n",
       "      <th>score</th>\n",
       "      <th>thumbsUpCount</th>\n",
       "      <th>reviewCreatedVersion</th>\n",
       "      <th>at</th>\n",
       "      <th>appVersion</th>\n",
       "    </tr>\n",
       "  </thead>\n",
       "  <tbody>\n",
       "    <tr>\n",
       "      <th>117214</th>\n",
       "      <td>a760ead9-e7aa-4ed1-a651-5c37c3600dac</td>\n",
       "      <td>A Google user</td>\n",
       "      <td>i really like it! there are so many movies and...</td>\n",
       "      <td>5</td>\n",
       "      <td>0</td>\n",
       "      <td>NaN</td>\n",
       "      <td>2019-08-03 15:06:03</td>\n",
       "      <td>NaN</td>\n",
       "    </tr>\n",
       "    <tr>\n",
       "      <th>117215</th>\n",
       "      <td>4957f9e7-d7f4-4a52-9764-031cebcac83f</td>\n",
       "      <td>Captain Jeoy</td>\n",
       "      <td>I love Netflix. I always enjoy my time using it.</td>\n",
       "      <td>5</td>\n",
       "      <td>0</td>\n",
       "      <td>8.34.0 build 4 50250</td>\n",
       "      <td>2022-08-15 16:16:30</td>\n",
       "      <td>8.34.0 build 4 50250</td>\n",
       "    </tr>\n",
       "    <tr>\n",
       "      <th>117216</th>\n",
       "      <td>9acf7586-7abf-4b50-8c50-3ede3b2a42c4</td>\n",
       "      <td>Suryansh</td>\n",
       "      <td>Sound quality is very slow of movies</td>\n",
       "      <td>1</td>\n",
       "      <td>0</td>\n",
       "      <td>NaN</td>\n",
       "      <td>2020-08-17 07:26:58</td>\n",
       "      <td>NaN</td>\n",
       "    </tr>\n",
       "    <tr>\n",
       "      <th>117217</th>\n",
       "      <td>32870f7f-c461-4256-b602-75244ca60248</td>\n",
       "      <td>A Google user</td>\n",
       "      <td>Rate is very expensive.. bcos we see netflix s...</td>\n",
       "      <td>1</td>\n",
       "      <td>0</td>\n",
       "      <td>7.17.0 build 13 34346</td>\n",
       "      <td>2019-07-21 09:41:42</td>\n",
       "      <td>7.17.0 build 13 34346</td>\n",
       "    </tr>\n",
       "    <tr>\n",
       "      <th>117218</th>\n",
       "      <td>dc1352e9-10a8-41ca-ab23-05d045b08e90</td>\n",
       "      <td>suraj soni</td>\n",
       "      <td>this app is awesome for english movies ,series...</td>\n",
       "      <td>4</td>\n",
       "      <td>0</td>\n",
       "      <td>NaN</td>\n",
       "      <td>2020-05-24 11:04:08</td>\n",
       "      <td>NaN</td>\n",
       "    </tr>\n",
       "  </tbody>\n",
       "</table>\n",
       "</div>"
      ],
      "text/plain": [
       "                                    reviewId       userName  \\\n",
       "117214  a760ead9-e7aa-4ed1-a651-5c37c3600dac  A Google user   \n",
       "117215  4957f9e7-d7f4-4a52-9764-031cebcac83f   Captain Jeoy   \n",
       "117216  9acf7586-7abf-4b50-8c50-3ede3b2a42c4       Suryansh   \n",
       "117217  32870f7f-c461-4256-b602-75244ca60248  A Google user   \n",
       "117218  dc1352e9-10a8-41ca-ab23-05d045b08e90     suraj soni   \n",
       "\n",
       "                                                  content  score  \\\n",
       "117214  i really like it! there are so many movies and...      5   \n",
       "117215   I love Netflix. I always enjoy my time using it.      5   \n",
       "117216               Sound quality is very slow of movies      1   \n",
       "117217  Rate is very expensive.. bcos we see netflix s...      1   \n",
       "117218  this app is awesome for english movies ,series...      4   \n",
       "\n",
       "        thumbsUpCount   reviewCreatedVersion                   at  \\\n",
       "117214              0                    NaN  2019-08-03 15:06:03   \n",
       "117215              0   8.34.0 build 4 50250  2022-08-15 16:16:30   \n",
       "117216              0                    NaN  2020-08-17 07:26:58   \n",
       "117217              0  7.17.0 build 13 34346  2019-07-21 09:41:42   \n",
       "117218              0                    NaN  2020-05-24 11:04:08   \n",
       "\n",
       "                   appVersion  \n",
       "117214                    NaN  \n",
       "117215   8.34.0 build 4 50250  \n",
       "117216                    NaN  \n",
       "117217  7.17.0 build 13 34346  \n",
       "117218                    NaN  "
      ]
     },
     "execution_count": 7,
     "metadata": {},
     "output_type": "execute_result"
    }
   ],
   "source": [
    "df.tail()"
   ]
  },
  {
   "cell_type": "code",
   "execution_count": 9,
   "id": "32cb0ac5-4f30-4b7f-a065-648f830c2695",
   "metadata": {},
   "outputs": [
    {
     "data": {
      "text/plain": [
       "(117219, 8)"
      ]
     },
     "execution_count": 9,
     "metadata": {},
     "output_type": "execute_result"
    }
   ],
   "source": [
    "df.shape"
   ]
  },
  {
   "cell_type": "code",
   "execution_count": 11,
   "id": "e55778e1-dd58-4777-8a37-95493a90461c",
   "metadata": {},
   "outputs": [
    {
     "data": {
      "text/plain": [
       "Index(['reviewId', 'userName', 'content', 'score', 'thumbsUpCount',\n",
       "       'reviewCreatedVersion', 'at', 'appVersion'],\n",
       "      dtype='object')"
      ]
     },
     "execution_count": 11,
     "metadata": {},
     "output_type": "execute_result"
    }
   ],
   "source": [
    "df.columns"
   ]
  },
  {
   "cell_type": "code",
   "execution_count": 35,
   "id": "3974b33f-da8d-4420-b5a9-8a3e0b5a4d41",
   "metadata": {},
   "outputs": [],
   "source": [
    "#isinstance(object, classinfo) object 확인하고자 하는 데이터 값. classinfo 확인하고자 하는 데이터 타입. object와 classinfo 타입이 같으면 True, 다르면 False를 반환.\n",
    "#re.sub(pattern, replace, text) text 중  pattern에 해당하는 부분을 replace로 대체\n",
    "#strip() 공백 제거. ('제거할 문자')를 입력 해주면 제거 \n",
    "# 전처리 함수\n",
    "import re\n",
    "def preprocess_text(text):\n",
    "    if isinstance(text, float):\n",
    "        return \"\"\n",
    "    text = text.lower()  # 대문자를 소문자로 (반대로는 upper)\n",
    "    text = re.sub(r'[^\\w\\s]', '', text)  # 구두점 제거 r'' = \\를 탈출문자로 보지 않고 \\ 그대로 본다, '[]' = 문자의 집합, '^' = not, '\u001d\n",
    "\\w' = 문자 + 숫자, '\\s' = 공백문자\n",
    "    text = re.sub(r'\\d+', '', text)  # 숫자 제거  '\\d' = 0~9를 포함한 모든 숫자, '+' = 바로 앞의 요소가 1회 이상 반복되는 부분과 일치\n",
    "    text = text.strip()  # 띄어쓰기 제외하고 빈 칸 제거\n",
    "    return text"
   ]
  },
  {
   "cell_type": "code",
   "execution_count": null,
   "id": "bb11db66-c34b-45c0-8a8f-0f89e7f532e5",
   "metadata": {},
   "outputs": [],
   "source": []
  }
 ],
 "metadata": {
  "kernelspec": {
   "display_name": "Python 3 (ipykernel)",
   "language": "python",
   "name": "python3"
  },
  "language_info": {
   "codemirror_mode": {
    "name": "ipython",
    "version": 3
   },
   "file_extension": ".py",
   "mimetype": "text/x-python",
   "name": "python",
   "nbconvert_exporter": "python",
   "pygments_lexer": "ipython3",
   "version": "3.12.4"
  }
 },
 "nbformat": 4,
 "nbformat_minor": 5
}
