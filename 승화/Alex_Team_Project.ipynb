{
 "cells": [
  {
   "cell_type": "code",
   "execution_count": 3,
   "id": "dad3804f-0c61-42bc-a800-147fbfc79c0a",
   "metadata": {},
   "outputs": [],
   "source": [
    "import pandas as pd\n",
    "import numpy as np\n",
    "import seaborn as sns  #과제에 필요한 라이브러리들을 import"
   ]
  },
  {
   "cell_type": "code",
   "execution_count": 4,
   "id": "4a95c3f0-4227-496e-a9fd-7054b2e1a339",
   "metadata": {},
   "outputs": [],
   "source": [
    "titanic = sns.load_dataset('titanic')  #seaborn 라이브러리에서 titanic 데이테셋을 가져옴"
   ]
  },
  {
   "cell_type": "code",
   "execution_count": 5,
   "id": "c1b6f33c-b0b8-42a2-9378-84d538148500",
   "metadata": {
    "scrolled": true
   },
   "outputs": [
    {
     "data": {
      "text/html": [
       "<div>\n",
       "<style scoped>\n",
       "    .dataframe tbody tr th:only-of-type {\n",
       "        vertical-align: middle;\n",
       "    }\n",
       "\n",
       "    .dataframe tbody tr th {\n",
       "        vertical-align: top;\n",
       "    }\n",
       "\n",
       "    .dataframe thead th {\n",
       "        text-align: right;\n",
       "    }\n",
       "</style>\n",
       "<table border=\"1\" class=\"dataframe\">\n",
       "  <thead>\n",
       "    <tr style=\"text-align: right;\">\n",
       "      <th></th>\n",
       "      <th>survived</th>\n",
       "      <th>pclass</th>\n",
       "      <th>sex</th>\n",
       "      <th>age</th>\n",
       "      <th>sibsp</th>\n",
       "      <th>parch</th>\n",
       "      <th>fare</th>\n",
       "      <th>embarked</th>\n",
       "      <th>class</th>\n",
       "      <th>who</th>\n",
       "      <th>adult_male</th>\n",
       "      <th>deck</th>\n",
       "      <th>embark_town</th>\n",
       "      <th>alive</th>\n",
       "      <th>alone</th>\n",
       "    </tr>\n",
       "  </thead>\n",
       "  <tbody>\n",
       "    <tr>\n",
       "      <th>0</th>\n",
       "      <td>0</td>\n",
       "      <td>3</td>\n",
       "      <td>male</td>\n",
       "      <td>22.0</td>\n",
       "      <td>1</td>\n",
       "      <td>0</td>\n",
       "      <td>7.2500</td>\n",
       "      <td>S</td>\n",
       "      <td>Third</td>\n",
       "      <td>man</td>\n",
       "      <td>True</td>\n",
       "      <td>NaN</td>\n",
       "      <td>Southampton</td>\n",
       "      <td>no</td>\n",
       "      <td>False</td>\n",
       "    </tr>\n",
       "    <tr>\n",
       "      <th>1</th>\n",
       "      <td>1</td>\n",
       "      <td>1</td>\n",
       "      <td>female</td>\n",
       "      <td>38.0</td>\n",
       "      <td>1</td>\n",
       "      <td>0</td>\n",
       "      <td>71.2833</td>\n",
       "      <td>C</td>\n",
       "      <td>First</td>\n",
       "      <td>woman</td>\n",
       "      <td>False</td>\n",
       "      <td>C</td>\n",
       "      <td>Cherbourg</td>\n",
       "      <td>yes</td>\n",
       "      <td>False</td>\n",
       "    </tr>\n",
       "    <tr>\n",
       "      <th>2</th>\n",
       "      <td>1</td>\n",
       "      <td>3</td>\n",
       "      <td>female</td>\n",
       "      <td>26.0</td>\n",
       "      <td>0</td>\n",
       "      <td>0</td>\n",
       "      <td>7.9250</td>\n",
       "      <td>S</td>\n",
       "      <td>Third</td>\n",
       "      <td>woman</td>\n",
       "      <td>False</td>\n",
       "      <td>NaN</td>\n",
       "      <td>Southampton</td>\n",
       "      <td>yes</td>\n",
       "      <td>True</td>\n",
       "    </tr>\n",
       "    <tr>\n",
       "      <th>3</th>\n",
       "      <td>1</td>\n",
       "      <td>1</td>\n",
       "      <td>female</td>\n",
       "      <td>35.0</td>\n",
       "      <td>1</td>\n",
       "      <td>0</td>\n",
       "      <td>53.1000</td>\n",
       "      <td>S</td>\n",
       "      <td>First</td>\n",
       "      <td>woman</td>\n",
       "      <td>False</td>\n",
       "      <td>C</td>\n",
       "      <td>Southampton</td>\n",
       "      <td>yes</td>\n",
       "      <td>False</td>\n",
       "    </tr>\n",
       "    <tr>\n",
       "      <th>4</th>\n",
       "      <td>0</td>\n",
       "      <td>3</td>\n",
       "      <td>male</td>\n",
       "      <td>35.0</td>\n",
       "      <td>0</td>\n",
       "      <td>0</td>\n",
       "      <td>8.0500</td>\n",
       "      <td>S</td>\n",
       "      <td>Third</td>\n",
       "      <td>man</td>\n",
       "      <td>True</td>\n",
       "      <td>NaN</td>\n",
       "      <td>Southampton</td>\n",
       "      <td>no</td>\n",
       "      <td>True</td>\n",
       "    </tr>\n",
       "  </tbody>\n",
       "</table>\n",
       "</div>"
      ],
      "text/plain": [
       "   survived  pclass     sex   age  sibsp  parch     fare embarked  class  \\\n",
       "0         0       3    male  22.0      1      0   7.2500        S  Third   \n",
       "1         1       1  female  38.0      1      0  71.2833        C  First   \n",
       "2         1       3  female  26.0      0      0   7.9250        S  Third   \n",
       "3         1       1  female  35.0      1      0  53.1000        S  First   \n",
       "4         0       3    male  35.0      0      0   8.0500        S  Third   \n",
       "\n",
       "     who  adult_male deck  embark_town alive  alone  \n",
       "0    man        True  NaN  Southampton    no  False  \n",
       "1  woman       False    C    Cherbourg   yes  False  \n",
       "2  woman       False  NaN  Southampton   yes   True  \n",
       "3  woman       False    C  Southampton   yes  False  \n",
       "4    man        True  NaN  Southampton    no   True  "
      ]
     },
     "execution_count": 5,
     "metadata": {},
     "output_type": "execute_result"
    }
   ],
   "source": [
    "titanic.head(5)  #head 함수를 이용해 상위 항목을 불러온다 (숫자 안적으면 기본으로 5개)"
   ]
  },
  {
   "cell_type": "code",
   "execution_count": 6,
   "id": "0fe5b26f-54b7-4281-b61e-a8b7f1446e3d",
   "metadata": {},
   "outputs": [
    {
     "data": {
      "text/html": [
       "<div>\n",
       "<style scoped>\n",
       "    .dataframe tbody tr th:only-of-type {\n",
       "        vertical-align: middle;\n",
       "    }\n",
       "\n",
       "    .dataframe tbody tr th {\n",
       "        vertical-align: top;\n",
       "    }\n",
       "\n",
       "    .dataframe thead th {\n",
       "        text-align: right;\n",
       "    }\n",
       "</style>\n",
       "<table border=\"1\" class=\"dataframe\">\n",
       "  <thead>\n",
       "    <tr style=\"text-align: right;\">\n",
       "      <th></th>\n",
       "      <th>survived</th>\n",
       "      <th>pclass</th>\n",
       "      <th>age</th>\n",
       "      <th>sibsp</th>\n",
       "      <th>parch</th>\n",
       "      <th>fare</th>\n",
       "    </tr>\n",
       "  </thead>\n",
       "  <tbody>\n",
       "    <tr>\n",
       "      <th>count</th>\n",
       "      <td>891.000000</td>\n",
       "      <td>891.000000</td>\n",
       "      <td>714.000000</td>\n",
       "      <td>891.000000</td>\n",
       "      <td>891.000000</td>\n",
       "      <td>891.000000</td>\n",
       "    </tr>\n",
       "    <tr>\n",
       "      <th>mean</th>\n",
       "      <td>0.383838</td>\n",
       "      <td>2.308642</td>\n",
       "      <td>29.699118</td>\n",
       "      <td>0.523008</td>\n",
       "      <td>0.381594</td>\n",
       "      <td>32.204208</td>\n",
       "    </tr>\n",
       "    <tr>\n",
       "      <th>std</th>\n",
       "      <td>0.486592</td>\n",
       "      <td>0.836071</td>\n",
       "      <td>14.526497</td>\n",
       "      <td>1.102743</td>\n",
       "      <td>0.806057</td>\n",
       "      <td>49.693429</td>\n",
       "    </tr>\n",
       "    <tr>\n",
       "      <th>min</th>\n",
       "      <td>0.000000</td>\n",
       "      <td>1.000000</td>\n",
       "      <td>0.420000</td>\n",
       "      <td>0.000000</td>\n",
       "      <td>0.000000</td>\n",
       "      <td>0.000000</td>\n",
       "    </tr>\n",
       "    <tr>\n",
       "      <th>25%</th>\n",
       "      <td>0.000000</td>\n",
       "      <td>2.000000</td>\n",
       "      <td>20.125000</td>\n",
       "      <td>0.000000</td>\n",
       "      <td>0.000000</td>\n",
       "      <td>7.910400</td>\n",
       "    </tr>\n",
       "    <tr>\n",
       "      <th>50%</th>\n",
       "      <td>0.000000</td>\n",
       "      <td>3.000000</td>\n",
       "      <td>28.000000</td>\n",
       "      <td>0.000000</td>\n",
       "      <td>0.000000</td>\n",
       "      <td>14.454200</td>\n",
       "    </tr>\n",
       "    <tr>\n",
       "      <th>75%</th>\n",
       "      <td>1.000000</td>\n",
       "      <td>3.000000</td>\n",
       "      <td>38.000000</td>\n",
       "      <td>1.000000</td>\n",
       "      <td>0.000000</td>\n",
       "      <td>31.000000</td>\n",
       "    </tr>\n",
       "    <tr>\n",
       "      <th>max</th>\n",
       "      <td>1.000000</td>\n",
       "      <td>3.000000</td>\n",
       "      <td>80.000000</td>\n",
       "      <td>8.000000</td>\n",
       "      <td>6.000000</td>\n",
       "      <td>512.329200</td>\n",
       "    </tr>\n",
       "  </tbody>\n",
       "</table>\n",
       "</div>"
      ],
      "text/plain": [
       "         survived      pclass         age       sibsp       parch        fare\n",
       "count  891.000000  891.000000  714.000000  891.000000  891.000000  891.000000\n",
       "mean     0.383838    2.308642   29.699118    0.523008    0.381594   32.204208\n",
       "std      0.486592    0.836071   14.526497    1.102743    0.806057   49.693429\n",
       "min      0.000000    1.000000    0.420000    0.000000    0.000000    0.000000\n",
       "25%      0.000000    2.000000   20.125000    0.000000    0.000000    7.910400\n",
       "50%      0.000000    3.000000   28.000000    0.000000    0.000000   14.454200\n",
       "75%      1.000000    3.000000   38.000000    1.000000    0.000000   31.000000\n",
       "max      1.000000    3.000000   80.000000    8.000000    6.000000  512.329200"
      ]
     },
     "execution_count": 6,
     "metadata": {},
     "output_type": "execute_result"
    }
   ],
   "source": [
    "titanic.describe()  #describe 함수로 통계 정보 요약\n",
    "#count : 데이터 개수(결측값 제외)\n",
    "#mean : 평균\n",
    "#ste : 표준편차\n",
    "#min : 최소값\n",
    "#25% : 하위 25%\n",
    "#50% : 하위 50%\n",
    "#75% : 하위 75%\n",
    "#max : 최대값"
   ]
  },
  {
   "cell_type": "code",
   "execution_count": 11,
   "id": "5f78285d-26b3-4c1b-a821-61826b029945",
   "metadata": {},
   "outputs": [
    {
     "data": {
      "text/plain": [
       "survived         0\n",
       "pclass           0\n",
       "sex              0\n",
       "age            177\n",
       "sibsp            0\n",
       "parch            0\n",
       "fare             0\n",
       "embarked         2\n",
       "class            0\n",
       "who              0\n",
       "adult_male       0\n",
       "deck           688\n",
       "embark_town      2\n",
       "alive            0\n",
       "alone            0\n",
       "dtype: int64"
      ]
     },
     "execution_count": 11,
     "metadata": {},
     "output_type": "execute_result"
    }
   ],
   "source": [
    "titanic.isnull().sum()  #isnull은 결측치를 True로 출력, sum은 개수를 합쳐서 출력\n",
    "                        #결측치 제거는 fillna()로 결측치를 다른 값으로 대체하거나, dropna()로 결측치를 제거할 수 있다"
   ]
  },
  {
   "cell_type": "code",
   "execution_count": 13,
   "id": "1d58ce46-dd22-4614-81c9-b69d034706e8",
   "metadata": {},
   "outputs": [
    {
     "name": "stderr",
     "output_type": "stream",
     "text": [
      "/var/folders/j9/nrfqzn3s2q349sv0cw_v64vm0000gn/T/ipykernel_3259/2039253766.py:1: FutureWarning: A value is trying to be set on a copy of a DataFrame or Series through chained assignment using an inplace method.\n",
      "The behavior will change in pandas 3.0. This inplace method will never work because the intermediate object on which we are setting values always behaves as a copy.\n",
      "\n",
      "For example, when doing 'df[col].method(value, inplace=True)', try using 'df.method({col: value}, inplace=True)' or df[col] = df[col].method(value) instead, to perform the operation inplace on the original object.\n",
      "\n",
      "\n",
      "  titanic['age'].fillna(titanic['age'].median(), inplace=True)  #.median() 함수로 'age'의 결측치를 중앙값으로 대체\n"
     ]
    }
   ],
   "source": [
    "titanic['age'].fillna(titanic['age'].median(), inplace=True)  #.median() 함수로 'age'의 결측치를 중앙값으로 대체"
   ]
  },
  {
   "cell_type": "code",
   "execution_count": 15,
   "id": "f2374a8f-8a6a-4ec3-b32c-bfe0e98834dd",
   "metadata": {},
   "outputs": [
    {
     "data": {
      "text/plain": [
       "28.0"
      ]
     },
     "execution_count": 15,
     "metadata": {},
     "output_type": "execute_result"
    }
   ],
   "source": [
    "titanic['age'].median()  #'age'의 중앙값은 28"
   ]
  },
  {
   "cell_type": "code",
   "execution_count": 17,
   "id": "a22604f9-6cf1-4eaf-a6fe-6b3d19e66efe",
   "metadata": {},
   "outputs": [
    {
     "name": "stderr",
     "output_type": "stream",
     "text": [
      "/var/folders/j9/nrfqzn3s2q349sv0cw_v64vm0000gn/T/ipykernel_3259/3304755589.py:1: FutureWarning: A value is trying to be set on a copy of a DataFrame or Series through chained assignment using an inplace method.\n",
      "The behavior will change in pandas 3.0. This inplace method will never work because the intermediate object on which we are setting values always behaves as a copy.\n",
      "\n",
      "For example, when doing 'df[col].method(value, inplace=True)', try using 'df.method({col: value}, inplace=True)' or df[col] = df[col].method(value) instead, to perform the operation inplace on the original object.\n",
      "\n",
      "\n",
      "  titanic['embarked'].fillna(titanic['embarked'].mode()[0], inplace=True)  #.mode()는 최빈값(가장 많은 빈도로 나타나는 값)을 보여준다. 최빈값이 여러개인 경우 모두 보여주게 되는데, 이때 뒤의[0]은 최빈값으 여러개일 경우 몇번째 최빈값을 보여줄지 적어주는 것\n"
     ]
    }
   ],
   "source": [
    "titanic['embarked'].fillna(titanic['embarked'].mode()[0], inplace=True)  #.mode()는 최빈값(가장 많은 빈도로 나타나는 값)을 보여준다. 최빈값이 여러개인 경우 모두 보여주게 되는데, 이때 뒤의[0]은 최빈값으 여러개일 경우 몇번째 최빈값을 보여줄지 적어주는 것"
   ]
  },
  {
   "cell_type": "code",
   "execution_count": 19,
   "id": "b053d3cb-10ca-478e-ac5d-979514aa1b27",
   "metadata": {
    "scrolled": true
   },
   "outputs": [
    {
     "data": {
      "text/plain": [
       "0    S\n",
       "Name: embarked, dtype: object"
      ]
     },
     "execution_count": 19,
     "metadata": {},
     "output_type": "execute_result"
    }
   ],
   "source": [
    "titanic['embarked'].mode()  #최빈값은 S 이고 중복되는 최빈값은 없다"
   ]
  },
  {
   "cell_type": "code",
   "execution_count": 21,
   "id": "62e3e593-a056-4ab4-88ad-b3d2fe57f1ce",
   "metadata": {},
   "outputs": [
    {
     "data": {
      "text/plain": [
       "0"
      ]
     },
     "execution_count": 21,
     "metadata": {},
     "output_type": "execute_result"
    }
   ],
   "source": [
    "titanic['age'].isnull().sum()  #결측치 제거 완료"
   ]
  },
  {
   "cell_type": "code",
   "execution_count": 23,
   "id": "13b3cc82-f682-421a-ac18-350f06ae22c0",
   "metadata": {},
   "outputs": [
    {
     "data": {
      "text/plain": [
       "0"
      ]
     },
     "execution_count": 23,
     "metadata": {},
     "output_type": "execute_result"
    }
   ],
   "source": [
    "titanic['embarked'].isnull().sum()  #결측치 제거 완료"
   ]
  },
  {
   "cell_type": "code",
   "execution_count": 27,
   "id": "2dc1f941-d4bc-4268-a4fe-6e23241439c6",
   "metadata": {},
   "outputs": [],
   "source": [
    "titanic['sex'] = titanic['sex'].replace({'male': 0, 'female': 1})  #map함수로 대체할 값 입력\n",
    "titanic['alive'] = titanic['alive'].replace({'no': 0 , 'yes': 1})\n",
    "titanic['embarked'] = titanic['embarked'].replace({'C': 0, 'Q': 1, 'S': 2})"
   ]
  },
  {
   "cell_type": "code",
   "execution_count": 29,
   "id": "54695efd-6a7e-4eea-a9ae-0cf653d5db3f",
   "metadata": {},
   "outputs": [
    {
     "data": {
      "text/plain": [
       "0    0\n",
       "1    1\n",
       "2    1\n",
       "3    1\n",
       "4    0\n",
       "Name: sex, dtype: int64"
      ]
     },
     "execution_count": 29,
     "metadata": {},
     "output_type": "execute_result"
    }
   ],
   "source": [
    "titanic['sex'].head()"
   ]
  },
  {
   "cell_type": "code",
   "execution_count": 31,
   "id": "18b95e75-623c-46fa-9a5f-ffb61b427267",
   "metadata": {},
   "outputs": [
    {
     "data": {
      "text/plain": [
       "0    0\n",
       "1    1\n",
       "2    1\n",
       "3    1\n",
       "4    0\n",
       "Name: alive, dtype: int64"
      ]
     },
     "execution_count": 31,
     "metadata": {},
     "output_type": "execute_result"
    }
   ],
   "source": [
    "titanic['alive'].head()"
   ]
  },
  {
   "cell_type": "code",
   "execution_count": 33,
   "id": "e965d2d2-6579-42d9-bef0-8ed84cbd7b92",
   "metadata": {},
   "outputs": [
    {
     "data": {
      "text/plain": [
       "0    2\n",
       "1    0\n",
       "2    2\n",
       "3    2\n",
       "4    2\n",
       "Name: embarked, dtype: int64"
      ]
     },
     "execution_count": 33,
     "metadata": {},
     "output_type": "execute_result"
    }
   ],
   "source": [
    "titanic['embarked'].head()"
   ]
  },
  {
   "cell_type": "code",
   "execution_count": 35,
   "id": "520ca2c3-8777-45ec-b1cd-64d70584afbe",
   "metadata": {},
   "outputs": [],
   "source": [
    "titanic['family_size'] = titanic['sibsp'] + titanic['parch'] + 1  #'family_size'라는 새 컬럼을 만들고 그 값을 정의해준다"
   ]
  },
  {
   "cell_type": "code",
   "execution_count": 37,
   "id": "b0c1d49a-3fe8-41e1-ab69-0025e77ee249",
   "metadata": {},
   "outputs": [
    {
     "data": {
      "text/plain": [
       "0    2\n",
       "1    2\n",
       "2    1\n",
       "3    2\n",
       "4    1\n",
       "Name: family_size, dtype: int64"
      ]
     },
     "execution_count": 37,
     "metadata": {},
     "output_type": "execute_result"
    }
   ],
   "source": [
    "titanic['family_size'].head()"
   ]
  },
  {
   "cell_type": "code",
   "execution_count": 39,
   "id": "7cdfa50a",
   "metadata": {},
   "outputs": [],
   "source": [
    "#모델 학습에 필요한 데이터 준비 컬럼 여러개 선택 시 [[]] 괄호를 두 개 써야하니 주의\n",
    "titanic = titanic[['survived', 'pclass', 'sex', 'age', 'sibsp', 'parch', 'fare', 'embarked', 'family_size']]"
   ]
  },
  {
   "cell_type": "code",
   "execution_count": 41,
   "id": "0aaa0206",
   "metadata": {},
   "outputs": [],
   "source": [
    "X = titanic.drop('survived', axis=1)  #drop함수를 사용해 target할 컬럼인 'surviver' 제거. 'axis=1'은 해당 열 제거. (columns = 'survived') 처럼도 사용할 수 있다. 행 삭제시 axis 적지 않고 사용하면 된다\n",
    "y = titanic['survived']  #target 설정\u001f"
   ]
  },
  {
   "cell_type": "code",
   "execution_count": 43,
   "id": "7daddfb6-408f-4f3e-8d6f-34215317f90c",
   "metadata": {},
   "outputs": [],
   "source": [
    "#4-2\n",
    "#Logistic Regression 로지스틱회귀는 종속변수(y)가 이진형일 때(결과값이 2가지 중 하나일 때)사용.각 데이터 포인트가 특정 클래스에 속할 확률을 예측\n",
    "\n",
    "#데이터 전처리\n",
    "from sklearn.model_selection import train_test_split  #데이터를 훈련, 테스트로 분할\n",
    "from sklearn.preprocessing import StandardScaler  #스탠다드스케일러\n",
    "#까먹고 이 두 개의 import를 입력 안 해주면 바로 에러 발생\n",
    "\n",
    "#데이터 분할\n",
    "X_train, X_test, y_train, y_test = train_test_split(X, y, test_size=0.2, random_state=42)\n",
    "#전체 데이터의 0.2만큼 테스트에 사용(0.8은 train에 사용), 랜덤 시드 값은 42로 설정(크게 의미없는 숫자. 통일만 시켜주면 된다)\n",
    "\n",
    "#데이터 스케일링\n",
    "scaler = StandardScaler()  #평균이 0이고 분산이 1인 정규 분포로 표준화\n",
    "X_train = scaler.fit_transform(X_train)\n",
    "X_test = scaler.transform(X_test)"
   ]
  },
  {
   "cell_type": "code",
   "execution_count": 47,
   "id": "bcfd7927-f370-44d3-82cf-1274ab86f4ca",
   "metadata": {},
   "outputs": [],
   "source": [
    "#잊지 말자\n",
    "from sklearn.linear_model import LogisticRegression  #로지스틱 회귀모델\n",
    "from sklearn.metrics import accuracy_score, classification_report, confusion_matrix #순서대로 정확도 계산(실제 값과 예측 값 비교), 분류 보고서 생성, 혼동 행렬 생성(예측과 실제를 비교하는 표)\n",
    "\n",
    "#모델 생성 및 학습\n",
    "model = LogisticRegression()\n",
    "model.fit(X_train, y_train)  #모델을 훈련세트로 \u001d",
    "\n",
    "\n",
    "\n",
    "#예측\n",
    "y_pred = model.predict(X_test)  #학습은 train으로 예측은 test로"
   ]
  },
  {
   "cell_type": "code",
   "execution_count": 49,
   "id": "88d9322f-0ac6-4e68-94a1-23a0fa5206d1",
   "metadata": {},
   "outputs": [
    {
     "name": "stdout",
     "output_type": "stream",
     "text": [
      "Accuracy: 0.8044692737430168\n"
     ]
    }
   ],
   "source": [
    "#평\b가\n",
    "print(f\"Accuracy: {accuracy_score(y_test, y_pred)}\")  #정확도=(TP+TN)/(TP+TN+FP+FN) 예측한 전체 건수 중 실제와 일치(맞춘) 건수의 비율"
   ]
  },
  {
   "cell_type": "code",
   "execution_count": 55,
   "id": "b749bb44-8851-46c6-ae99-04c0f010ecad",
   "metadata": {},
   "outputs": [
    {
     "name": "stdout",
     "output_type": "stream",
     "text": [
      "Classification Report:\n",
      "              precision    recall  f1-score   support\n",
      "\n",
      "           0       0.82      0.86      0.84       105\n",
      "           1       0.78      0.73      0.76        74\n",
      "\n",
      "    accuracy                           0.80       179\n",
      "   macro avg       0.80      0.79      0.80       179\n",
      "weighted avg       0.80      0.80      0.80       179\n",
      "\n"
     ]
    }
   ],
   "source": [
    "print(f\"Classification Report:\\n{classification_report(y_test, y_pred)}\")  #분류 보고서\n",
    "# precision(정밀도) = TP/(TP+FP) 양성이라고 예측한 것 중 실제와 일치하는 비율\n",
    "#recall(재현율) = TP/(TP+FN) 실제 양성 중 양성이라고 예측한 비율\n",
    "#f1-score 정밀도와 재현율의 가중 조화평균\n",
    "#support 각 라벨의 실제 샘플 개수(여기선 0과 1의 개수)\n",
    "#macro avg 단순 평균\n",
    "#weighted avg 가중치가 포함된 평균(데이터 개수로 가중평균을 내기 때문에 데이터 개수가 많은 라벨이 유리)"
   ]
  },
  {
   "cell_type": "code",
   "execution_count": 47,
   "id": "cab05da0-75ae-4b04-a4db-0dfa7ab38f05",
   "metadata": {},
   "outputs": [
    {
     "name": "stdout",
     "output_type": "stream",
     "text": [
      "Confusion Matrix:\n",
      "[[137  20]\n",
      " [ 30  81]]\n"
     ]
    }
   ],
   "source": [
    "print(f\"Confusion Matrix:\\n{confusion_matrix(y_test, y_pred)}\")  #혼동 행렬(왼쪽 위 부터 TN, FP, FN, TP)"
   ]
  },
  {
   "cell_type": "code",
   "execution_count": 54,
   "id": "cbdf9380-3288-47ee-8dcd-60a0b5053638",
   "metadata": {},
   "outputs": [],
   "source": [
    "#test_size=0.1 로 한 경우 정확도가 더 올라감(0.1일때>0.3일때>0.2일때)"
   ]
  },
  {
   "cell_type": "code",
   "execution_count": 57,
   "id": "d9749b59-a907-4f76-b9ea-1ebc40a3bc1a",
   "metadata": {},
   "outputs": [],
   "source": [
    "#4-3\n",
    "#Random Forest\n",
    "#랜덤포레스트에 필요한 기능들을 import\n",
    "from sklearn.ensemble import RandomForestRegressor\n",
    "from sklearn.metrics import mean_squared_error  #평균제곱오차(실제 값과 예측 값의 차이를 제곱하여 모델의 정확성을 측정)\n",
    "from sklearn.model_selection import train_test_split\n",
    "from sklearn.preprocessing import StandardScaler\n",
    "\n",
    "#데이터 로드\n",
    "X, y = titanic.drop('survived', axis=1), titanic['survived']\n",
    "\n",
    "#데이터 분할\n",
    "X_train, X_test, y_train, y_test = train_test_split(X, y, test_size=0.2, random_state=42)\n",
    "\n",
    "#데이터 스케일링\n",
    "scaler = StandardScaler()\n",
    "X_train_scaled = scaler.fit_transform(X_train)\n",
    "X_test_scaled = scaler.transform(X_test)"
   ]
  },
  {
   "cell_type": "code",
   "execution_count": 59,
   "id": "a40f4870-4822-4027-bd9a-1351d70bfece",
   "metadata": {},
   "outputs": [],
   "source": [
    "#모델 생성\n",
    "model = RandomForestRegressor(n_estimators=100, random_state=42)  #100번 반복학습\n",
    "\n",
    "#모델 학습\n",
    "model.fit(X_train_scaled, y_train)\n",
    "\n",
    "#예측\n",
    "y_pred = model.predict(X_test_scaled)"
   ]
  },
  {
   "cell_type": "code",
   "execution_count": 61,
   "id": "f32114da-048d-4cc8-8f7e-0f754a54aaac",
   "metadata": {},
   "outputs": [
    {
     "name": "stdout",
     "output_type": "stream",
     "text": [
      "0.13605153814540247\n"
     ]
    }
   ],
   "source": [
    "#평가\n",
    "mse = mean_squared_error(y_test, y_pred)\n",
    "print(mse)  #mse값이 0에 가까울수록 예측한 값이 실제 값과 비슷함"
   ]
  },
  {
   "cell_type": "code",
   "execution_count": 62,
   "id": "3144baac-1c6f-4f72-bd5a-8087d120a257",
   "metadata": {},
   "outputs": [
    {
     "data": {
      "image/png": "[encoded data removed]",
      "text/plain": [
       "<Figure size 1000x700 with 1 Axes>"
      ]
     },
     "metadata": {},
     "output_type": "display_data"
    }
   ],
   "source": [
    "#중요 특성 확인\n",
    "\n",
    "import matplotlib.pyplot as plt  #시각화 라이브러리(그래프)\n",
    "import seaborn as sns  #시각화 라이브러리(그래프)\n",
    "\n",
    "#특성 중요도 추출\n",
    "feature_importances = model.feature_importances_\n",
    "#feature가 모델의 예측에 얼마나 중요한 역할을 하는지 나타냄. 값이 클수록 큰 영향을 미침(전체 합은 1)\n",
    "\n",
    "feature_importances_df = pd.DataFrame({\n",
    "    'Feature': X.columns,\n",
    "    'Importance': feature_importances\n",
    "})\n",
    "\n",
    "#중요도 순으로 정렬\n",
    "feature_importances_df = feature_importances_df.sort_values(by='Importance', ascending=False)\n",
    "\n",
    "# 특성 중요도 시각화\n",
    "plt.figure(figsize=(10, 7))  #캔버스의 크기\n",
    "sns.barplot(x='Importance', y='Feature', data=feature_importances_df)  #barplot 범주형 변수와 연속형 변수의 관계를 그래프로\n",
    "plt.title('Feature Importances in Random Forest')  #그래프 타이틀 설정\n",
    "plt.show()"
   ]
  },
  {
   "cell_type": "code",
   "execution_count": 64,
   "id": "82468442-0552-429c-be14-2c25f3c9fee6",
   "metadata": {},
   "outputs": [
    {
     "name": "stdout",
     "output_type": "stream",
     "text": [
      "Accuracy: 0.770949720670391\n",
      "Classification Report:\n",
      "              precision    recall  f1-score   support\n",
      "\n",
      "           0       0.83      0.76      0.80       105\n",
      "           1       0.70      0.78      0.74        74\n",
      "\n",
      "    accuracy                           0.77       179\n",
      "   macro avg       0.77      0.77      0.77       179\n",
      "weighted avg       0.78      0.77      0.77       179\n",
      "\n"
     ]
    }
   ],
   "source": [
    "#4-3 \n",
    "#의사결정나무\n",
    "\n",
    "from sklearn.model_selection import train_test_split\n",
    "from sklearn.preprocessing import StandardScaler\n",
    "from sklearn.tree import DecisionTreeClassifier  #의사결정나무 분류 모델 생성\n",
    "from sklearn.metrics import accuracy_score, classification_report\n",
    "\n",
    "# 데이터 분할\n",
    "X_train, X_test, y_train, y_test = train_test_split(X, y, test_size=0.2, random_state=42)\n",
    "\n",
    "# 데이터 스케일링\n",
    "scaler = StandardScaler()\n",
    "X_train = scaler.fit_transform(X_train)\n",
    "X_test = scaler.transform(X_test)\n",
    "\n",
    "# 모델 생성 및 학습\n",
    "model = DecisionTreeClassifier(random_state=42) \n",
    "model.fit(X_train, y_train)\n",
    "\n",
    "# 예측\n",
    "y_pred = model.predict(X_test)\n",
    "\n",
    "# 평가\n",
    "print(f\"Accuracy: {accuracy_score(y_test, y_pred)}\")\n",
    "print(f\"Classification Report:\\n{classification_report(y_test, y_pred)}\")"
   ]
  },
  {
   "cell_type": "code",
   "execution_count": 73,
   "id": "19900dc6-6cef-4d32-ad75-0d7db9496724",
   "metadata": {},
   "outputs": [],
   "source": [
    "#4-4\n",
    "#XGBoost"
   ]
  },
  {
   "cell_type": "code",
   "execution_count": 71,
   "id": "435bc3d7-76a2-427e-a3b3-deb260af44a9",
   "metadata": {},
   "outputs": [
    {
     "name": "stdout",
     "output_type": "stream",
     "text": [
      "Collecting xgboost\n",
      "  Downloading xgboost-2.1.1-py3-none-macosx_12_0_arm64.whl.metadata (2.1 kB)\n",
      "Requirement already satisfied: numpy in /opt/anaconda3/lib/python3.12/site-packages (from xgboost) (1.26.4)\n",
      "Requirement already satisfied: scipy in /opt/anaconda3/lib/python3.12/site-packages (from xgboost) (1.13.1)\n",
      "Downloading xgboost-2.1.1-py3-none-macosx_12_0_arm64.whl (1.9 MB)\n",
      "\u001b[2K   \u001b[90m━━━━━━━━━━━━━━━━━━━━━━━━━━━━━━━━━━━━━━━━\u001b[0m \u001b[32m1.9/1.9 MB\u001b[0m \u001b[31m8.9 MB/s\u001b[0m eta \u001b[36m0:00:00\u001b[0ma \u001b[36m0:00:01\u001b[0m\n",
      "\u001b[?25hInstalling collected packages: xgboost\n",
      "Successfully installed xgboost-2.1.1\n",
      "Note: you may need to restart the kernel to use updated packages.\n"
     ]
    }
   ],
   "source": [
    "pip install xgboost"
   ]
  },
  {
   "cell_type": "code",
   "execution_count": 75,
   "id": "d63a8b4b-ec4e-42d9-9adf-00a39e68944d",
   "metadata": {},
   "outputs": [],
   "source": [
    "import xgboost as xgb"
   ]
  },
  {
   "cell_type": "code",
   "execution_count": 79,
   "id": "091226eb-e9a8-4988-a8fb-7f6350e67d62",
   "metadata": {},
   "outputs": [],
   "source": [
    "#데이터 준비\n",
    "\n",
    "from sklearn.model_selection import train_test_split\n",
    "from sklearn.preprocessing import StandardScaler\n",
    "from sklearn.metrics import mean_squared_error\n",
    "\n",
    "X, y = titanic.drop('survived', axis=1), titanic['survived']\n",
    "\n",
    "X_train, X_test, y_train, y_test = train_test_split(X, y, test_size=0.2, random_state=42)\n",
    "\n",
    "scaler = StandardScaler()\n",
    "X_train_scaled = scaler.fit_transform(X_train)\n",
    "X_test_scaled = scaler.transform(X_test)"
   ]
  },
  {
   "cell_type": "code",
   "execution_count": 107,
   "id": "722f2cda-2fbd-45a3-98ca-bec26161fd85",
   "metadata": {},
   "outputs": [
    {
     "name": "stdout",
     "output_type": "stream",
     "text": [
      "XGBoost 모델의 MSE: 0.12981004899201257\n"
     ]
    }
   ],
   "source": [
    "#xgboost 모델 생성\n",
    "xgb_model = xgb.XGBRegressor(n_estimators=100, learning_rate=0.1, max_depth=3, random_state=42)\n",
    "#n_estimators 트리의 개수, learning_rate 학습 단계별로 가중치를 얼만큼 사용할지, 또는 이전의 결과를 얼마나 반영할건지 결정\n",
    "#max_depth 트리의 최대 깊이\n",
    "\n",
    "# 모델 학습\n",
    "xgb_model.fit(X_train_scaled, y_train)\n",
    "\n",
    "# 예측\n",
    "y_pred_xgb = xgb_model.predict(X_test_scaled)\n",
    "\n",
    "# 평가\n",
    "mse_xgb = mean_squared_error(y_test, y_pred_xgb)\n",
    "print(f'XGBoost 모델의 MSE: {mse_xgb}')"
   ]
  },
  {
   "cell_type": "code",
   "execution_count": null,
   "id": "c1464e01-3bf7-4d05-a7e8-bd5b0f5286ba",
   "metadata": {},
   "outputs": [],
   "source": []
  }
 ],
 "metadata": {
  "kernelspec": {
   "display_name": "Python 3 (ipykernel)",
   "language": "python",
   "name": "python3"
  },
  "language_info": {
   "codemirror_mode": {
    "name": "ipython",
    "version": 3
   },
   "file_extension": ".py",
   "mimetype": "text/x-python",
   "name": "python",
   "nbconvert_exporter": "python",
   "pygments_lexer": "ipython3",
   "version": "3.12.4"
  }
 },
 "nbformat": 4,
 "nbformat_minor": 5
}
