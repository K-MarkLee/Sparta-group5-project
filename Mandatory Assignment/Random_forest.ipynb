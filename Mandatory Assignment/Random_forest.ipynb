{
 "cells": [
  {
   "cell_type": "code",
   "execution_count": 1,
   "id": "7be6d776",
   "metadata": {},
   "outputs": [],
   "source": [
    "#오태우"
   ]
  },
  {
   "cell_type": "code",
   "execution_count": 2,
   "id": "1348b98c-95dd-4164-9092-e7d925adcb62",
   "metadata": {},
   "outputs": [],
   "source": [
    "import pandas as pd  # 데이터 처리를 위해 pandas 라이브러리를 불러옵니다."
   ]
  },
  {
   "cell_type": "code",
   "execution_count": 3,
   "id": "f3ffe1d4-7809-4496-811b-35bc07c353a3",
   "metadata": {},
   "outputs": [],
   "source": [
    "from sklearn.model_selection import train_test_split  # 데이터를 학습용과 테스트용으로 나누기 위한 함수입니다.\n",
    "from sklearn.ensemble import RandomForestClassifier  # Random Forest 모델을 사용하기 위한 클래스입니다.\n",
    "from sklearn.metrics import accuracy_score, classification_report  # 모델 평가를 위한 함수입니다.\n",
    "from sklearn.preprocessing import StandardScaler  # 데이터를 정규화할 때 사용할 클래스입니다."
   ]
  },
  {
   "cell_type": "code",
   "execution_count": 4,
   "id": "762e2247-e7e9-42e7-a793-5fa79e19f6a8",
   "metadata": {},
   "outputs": [],
   "source": [
    "# 1. 데이터 불러오기\n",
    "# X는 특성(feature) 데이터, y는 타겟(target) 데이터입니다.\n",
    "X = pd.read_csv('titanic_X_data.csv')  # 특성 데이터 파일을 읽어옵니다.\n",
    "y = pd.read_csv('titanic_y_data.csv')  # 타겟 데이터 파일을 읽어옵니다."
   ]
  },
  {
   "cell_type": "code",
   "execution_count": 5,
   "id": "3c7206eb-e9c4-4484-91e3-3d4e8fc53b67",
   "metadata": {},
   "outputs": [],
   "source": [
    "# 2. 데이터 분할\n",
    "# 데이터를 학습 세트와 테스트 세트로 나눕니다.\n",
    "# test_size=0.2는 전체 데이터의 20%를 테스트 세트로 사용하겠다는 의미입니다.\n",
    "# random_state=42는 결과를 재현 가능하게 하기 위한 난수 생성기 시드 값입니다.\n",
    "X_train, X_test, y_train, y_test = train_test_split(X, y, test_size=0.2, random_state=42)"
   ]
  },
  {
   "cell_type": "code",
   "execution_count": 6,
   "id": "35af8e5b-fdc6-4028-a0c5-6936948c8e14",
   "metadata": {},
   "outputs": [],
   "source": [
    "# 3. 데이터 스케일링\n",
    "# 데이터 스케일링은 서로 다른 범위를 가진 특성들을 동일한 범위로 조정하는 과정입니다.\n",
    "# StandardScaler는 평균이 0이고 표준편차가 1인 정규 분포로 변환합니다.\n",
    "scaler = StandardScaler()  # 스케일러 객체를 생성합니다.\n",
    "X_train = scaler.fit_transform(X_train)  # 학습 데이터에 대한 스케일러를 학습하고 변환합니다.\n",
    "X_test = scaler.transform(X_test)  # 테스트 데이터는 학습된 스케일러를 사용하여 변환합니다."
   ]
  },
  {
   "cell_type": "code",
   "execution_count": 7,
   "id": "a6d587b7-f1ff-4530-9c36-a64f274e36cd",
   "metadata": {},
   "outputs": [],
   "source": [
    "# 4. 모델 생성 및 학습\n",
    "# RandomForestClassifier는 여러 개의 결정 트리를 조합하여 예측하는 앙상블 모델입니다.\n",
    "model = RandomForestClassifier(random_state=42)  # 모델 객체를 생성합니다.\n",
    "model.fit(X_train, y_train.values.ravel());  # 학습 데이터를 사용하여 모델을 학습합니다.\n",
    "# y_train.values.ravel()을 사용하는 이유는 y가 DataFrame 형식일 경우 1D 배열로 변환하기 위함입니다."
   ]
  },
  {
   "cell_type": "code",
   "execution_count": 8,
   "id": "ab0b28e4-c16e-4033-94b1-f1506dbc1295",
   "metadata": {},
   "outputs": [],
   "source": [
    "# 5. 예측\n",
    "# 테스트 데이터를 사용하여 학습된 모델로 예측을 수행합니다.\n",
    "y_pred = model.predict(X_test)  # 예측 결과를 y_pred에 저장합니다."
   ]
  },
  {
   "cell_type": "code",
   "execution_count": 9,
   "id": "80bf8968-aabd-4a7d-a755-80f51fa7e023",
   "metadata": {},
   "outputs": [
    {
     "name": "stdout",
     "output_type": "stream",
     "text": [
      "Accuracy: 0.8212290502793296\n",
      "Classification Report:\n",
      "              precision    recall  f1-score   support\n",
      "\n",
      "           0       0.85      0.85      0.85       105\n",
      "           1       0.78      0.78      0.78        74\n",
      "\n",
      "    accuracy                           0.82       179\n",
      "   macro avg       0.82      0.82      0.82       179\n",
      "weighted avg       0.82      0.82      0.82       179\n",
      "\n"
     ]
    }
   ],
   "source": [
    "# 6. 평가\n",
    "# 모델의 성능을 평가하기 위해 정확도와 분류 보고서를 출력합니다.\n",
    "print(f\"Accuracy: {accuracy_score(y_test, y_pred)}\")  # 정확도를 계산하여 출력합니다.\n",
    "print(f\"Classification Report:\\n{classification_report(y_test, y_pred)}\")  # 분류 보고서를 출력합니다.\n",
    "# 분류 보고서에는 precision, recall, f1-score 등의 지표가 포함되어 있습니다."
   ]
  }
 ],
 "metadata": {
  "kernelspec": {
   "display_name": "machine-learning",
   "language": "python",
   "name": "python3"
  },
  "language_info": {
   "codemirror_mode": {
    "name": "ipython",
    "version": 3
   },
   "file_extension": ".py",
   "mimetype": "text/x-python",
   "name": "python",
   "nbconvert_exporter": "python",
   "pygments_lexer": "ipython3",
   "version": "3.12.7"
  }
 },
 "nbformat": 4,
 "nbformat_minor": 5
}
