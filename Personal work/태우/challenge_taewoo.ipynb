{
 "cells": [
  {
   "cell_type": "code",
   "execution_count": 1,
   "id": "cb8790eb-b063-450e-95c5-87fd5c490dd5",
   "metadata": {},
   "outputs": [],
   "source": [
    "import pandas as pd"
   ]
  },
  {
   "cell_type": "code",
   "execution_count": 3,
   "id": "59404aa2-b19f-49a7-9d2e-36fa1577622c",
   "metadata": {},
   "outputs": [],
   "source": [
    "import re"
   ]
  },
  {
   "cell_type": "code",
   "execution_count": 5,
   "id": "e43d6147-2b82-43ff-859e-26b5c8b34fcd",
   "metadata": {},
   "outputs": [],
   "source": [
    "import seaborn as sns  # 그래프를 그리기 위한 seaborn 라이브러리 임포트"
   ]
  },
  {
   "cell_type": "code",
   "execution_count": 7,
   "id": "ea51e07e-ae45-40a9-9522-c75e691bc662",
   "metadata": {},
   "outputs": [],
   "source": [
    "import matplotlib.pyplot as plt  # 그래프 표시를 위한 pyplot 임포트"
   ]
  },
  {
   "cell_type": "code",
   "execution_count": 9,
   "id": "e8e1f647-9238-4168-9ba7-88545d9d2751",
   "metadata": {},
   "outputs": [],
   "source": [
    "# 데이터셋 불러오기\n",
    "df = pd.read_csv(\"netflix_reviews.csv\")"
   ]
  },
  {
   "cell_type": "code",
   "execution_count": 11,
   "id": "db7e46a3-3529-41b6-90d6-8ca7e3924100",
   "metadata": {},
   "outputs": [
    {
     "name": "stdout",
     "output_type": "stream",
     "text": [
      "상단 5개 데이터:\n",
      "                               reviewId         userName  \\\n",
      "0  516f368f-72d8-4abf-9400-e066f2f07b42     Rakesh Patel   \n",
      "1  66d0176c-3838-4ecc-aead-d10588ec6887  Tabassum Kausar   \n",
      "2  a3c8308c-eed0-4cbb-adab-6a076f48a7ab            Hi mu   \n",
      "3  6c6cd609-cfb2-4a7e-b35f-48b289e2984a          Brian C   \n",
      "4  641edd00-95ec-4214-a03f-60fccafbbb8e     Evans Mgeusa   \n",
      "\n",
      "                                             content  score  thumbsUpCount  \\\n",
      "0                                                 Ok      5              0   \n",
      "1  Only problem is that we can't search year wise...      3              0   \n",
      "2                                             Good 💜      5              0   \n",
      "3            Can't cast to Chromecast. Unacceptable.      1              0   \n",
      "4                                            Amazing      5              0   \n",
      "\n",
      "    reviewCreatedVersion                   at             appVersion  \n",
      "0  8.137.0 build 4 50942  2024-10-27 13:54:52  8.137.0 build 4 50942  \n",
      "1  8.137.0 build 4 50942  2024-10-27 13:53:46  8.137.0 build 4 50942  \n",
      "2                    NaN  2024-10-27 13:49:19                    NaN  \n",
      "3  8.137.0 build 4 50942  2024-10-27 13:43:37  8.137.0 build 4 50942  \n",
      "4  8.137.0 build 4 50942  2024-10-27 13:42:29  8.137.0 build 4 50942  \n"
     ]
    }
   ],
   "source": [
    "# 데이터프레임의 상단 5개 데이터 출력\n",
    "print(\"상단 5개 데이터:\")\n",
    "print(df.head())"
   ]
  },
  {
   "cell_type": "code",
   "execution_count": 13,
   "id": "22a4079a-ea2c-4aad-a13a-d9cc794a40a3",
   "metadata": {},
   "outputs": [
    {
     "name": "stdout",
     "output_type": "stream",
     "text": [
      "\n",
      "하단 5개 데이터:\n",
      "                                    reviewId       userName  \\\n",
      "117640  a760ead9-e7aa-4ed1-a651-5c37c3600dac  A Google user   \n",
      "117641  4957f9e7-d7f4-4a52-9764-031cebcac83f   Captain Jeoy   \n",
      "117642  9acf7586-7abf-4b50-8c50-3ede3b2a42c4       Suryansh   \n",
      "117643  32870f7f-c461-4256-b602-75244ca60248  A Google user   \n",
      "117644  dc1352e9-10a8-41ca-ab23-05d045b08e90     suraj soni   \n",
      "\n",
      "                                                  content  score  \\\n",
      "117640  i really like it! there are so many movies and...      5   \n",
      "117641   I love Netflix. I always enjoy my time using it.      5   \n",
      "117642               Sound quality is very slow of movies      1   \n",
      "117643  Rate is very expensive.. bcos we see netflix s...      1   \n",
      "117644  this app is awesome for english movies ,series...      4   \n",
      "\n",
      "        thumbsUpCount   reviewCreatedVersion                   at  \\\n",
      "117640              0                    NaN  2019-08-03 15:06:03   \n",
      "117641              0   8.34.0 build 4 50250  2022-08-15 16:16:30   \n",
      "117642              0                    NaN  2020-08-17 07:26:58   \n",
      "117643              0  7.17.0 build 13 34346  2019-07-21 09:41:42   \n",
      "117644              0                    NaN  2020-05-24 11:04:08   \n",
      "\n",
      "                   appVersion  \n",
      "117640                    NaN  \n",
      "117641   8.34.0 build 4 50250  \n",
      "117642                    NaN  \n",
      "117643  7.17.0 build 13 34346  \n",
      "117644                    NaN  \n"
     ]
    }
   ],
   "source": [
    "# 데이터프레임의 하단 5개 데이터 출력\n",
    "print(\"\\n하단 5개 데이터:\")\n",
    "print(df.tail())\n"
   ]
  },
  {
   "cell_type": "code",
   "execution_count": 15,
   "id": "381430cf-0350-4e39-a851-d3c49ad2e931",
   "metadata": {},
   "outputs": [
    {
     "name": "stdout",
     "output_type": "stream",
     "text": [
      "\n",
      "Shape of the dataset: (117645, 8)\n"
     ]
    }
   ],
   "source": [
    "# 데이터프레임의 shape 출력\n",
    "print(\"\\nShape of the dataset:\", df.shape)"
   ]
  },
  {
   "cell_type": "code",
   "execution_count": 17,
   "id": "2d735a02-96df-4a56-ac59-afb857784055",
   "metadata": {},
   "outputs": [
    {
     "name": "stdout",
     "output_type": "stream",
     "text": [
      "Columns in the dataset: Index(['reviewId', 'userName', 'content', 'score', 'thumbsUpCount',\n",
      "       'reviewCreatedVersion', 'at', 'appVersion'],\n",
      "      dtype='object')\n"
     ]
    }
   ],
   "source": [
    "# 데이터프레임의 컬럼 출력\n",
    "print(\"Columns in the dataset:\", df.columns)"
   ]
  },
  {
   "cell_type": "code",
   "execution_count": 19,
   "id": "3f99fa7c-f431-4c86-bc65-c3eac548a982",
   "metadata": {},
   "outputs": [],
   "source": [
    "# 전처리 함수\n",
    "def preprocess_text(text):\n",
    "    if isinstance(text, float):\n",
    "        return \"\"\n",
    "    text = text.lower()  # 대문자를 소문자로\n",
    "    text = re.sub(r'[^\\w\\s]', '', text)  # 구두점 제거\n",
    "    text = re.sub(r'\\d+', '', text)  # 숫자 제거\n",
    "    text = text.strip()  # 띄어쓰기 제외하고 빈 칸 제거\n",
    "    return text"
   ]
  },
  {
   "cell_type": "code",
   "execution_count": 21,
   "id": "2f9338b8-1f91-465a-8de4-7b9e47d08026",
   "metadata": {},
   "outputs": [],
   "source": [
    "# 리뷰 데이터 전처리\n",
    "df['cleaned_content'] = df['content'].apply(preprocess_text)"
   ]
  },
  {
   "cell_type": "code",
   "execution_count": 23,
   "id": "ddb9c7c1-9cc3-4e35-b46f-04e1379f166b",
   "metadata": {},
   "outputs": [
    {
     "name": "stdout",
     "output_type": "stream",
     "text": [
      "\n",
      "전처리된 상단 5개 데이터:\n",
      "                                             content  \\\n",
      "0                                                 Ok   \n",
      "1  Only problem is that we can't search year wise...   \n",
      "2                                             Good 💜   \n",
      "3            Can't cast to Chromecast. Unacceptable.   \n",
      "4                                            Amazing   \n",
      "\n",
      "                                     cleaned_content  \n",
      "0                                                 ok  \n",
      "1  only problem is that we cant search year wise ...  \n",
      "2                                               good  \n",
      "3               cant cast to chromecast unacceptable  \n",
      "4                                            amazing  \n"
     ]
    }
   ],
   "source": [
    "# 전처리된 데이터 확인\n",
    "print(\"\\n전처리된 상단 5개 데이터:\")\n",
    "print(df[['content', 'cleaned_content']].head())"
   ]
  },
  {
   "cell_type": "code",
   "execution_count": 25,
   "id": "a4289f8b-228d-475d-ac06-9ac864d5d307",
   "metadata": {},
   "outputs": [
    {
     "name": "stderr",
     "output_type": "stream",
     "text": [
      "/var/folders/kc/fbdkhfks4cdgdytczn417j3m0000gn/T/ipykernel_87760/2737673158.py:3: FutureWarning: \n",
      "\n",
      "Passing `palette` without assigning `hue` is deprecated and will be removed in v0.14.0. Assign the `x` variable to `hue` and set `legend=False` for the same effect.\n",
      "\n",
      "  sns.countplot(x='score', data=df, palette='viridis')\n"
     ]
    },
    {
     "data": {
      "image/png": "[encoded data removed]",
      "text/plain": [
       "<Figure size 1000x600 with 1 Axes>"
      ]
     },
     "metadata": {},
     "output_type": "display_data"
    }
   ],
   "source": [
    "# 리뷰 점수 분포 시각화\n",
    "plt.figure(figsize=(10, 6))\n",
    "sns.countplot(x='score', data=df, palette='viridis')\n",
    "plt.xlabel('Score')\n",
    "plt.ylabel('Count')\n",
    "plt.title('Distribution of Scores')\n",
    "plt.xticks(rotation=0)\n",
    "plt.show()"
   ]
  },
  {
   "cell_type": "code",
   "execution_count": null,
   "id": "e135e876-c6d6-4014-870a-e715269bed56",
   "metadata": {},
   "outputs": [],
   "source": []
  }
 ],
 "metadata": {
  "kernelspec": {
   "display_name": "Python 3 (ipykernel)",
   "language": "python",
   "name": "python3"
  },
  "language_info": {
   "codemirror_mode": {
    "name": "ipython",
    "version": 3
   },
   "file_extension": ".py",
   "mimetype": "text/x-python",
   "name": "python",
   "nbconvert_exporter": "python",
   "pygments_lexer": "ipython3",
   "version": "3.12.4"
  }
 },
 "nbformat": 4,
 "nbformat_minor": 5
}
